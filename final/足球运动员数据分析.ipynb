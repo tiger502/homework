{
 "cells": [
  {
   "cell_type": "code",
   "execution_count": 1,
   "metadata": {},
   "outputs": [],
   "source": [
    "# 倒入模块\n",
    "import numpy as np\n",
    "import pandas as pd\n",
    "import matplotlib.pyplot as plt"
   ]
  },
  {
   "cell_type": "code",
   "execution_count": 2,
   "metadata": {
    "pycharm": {
     "name": "#%%\n"
    }
   },
   "outputs": [],
   "source": [
    "# 解决中文乱码问题\n",
    "plt.rcParams['font.sans-serif'] = ['KaiTi'] # 指定默认字体\n",
    "plt.rcParams['axes.unicode_minus'] = False # 解决保存图片‘-’显示为方块问题"
   ]
  },
  {
   "cell_type": "code",
   "execution_count": 3,
   "metadata": {
    "pycharm": {
     "name": "#%%\n"
    }
   },
   "outputs": [
    {
     "data": {
      "text/html": [
       "<div>\n",
       "<style scoped>\n",
       "    .dataframe tbody tr th:only-of-type {\n",
       "        vertical-align: middle;\n",
       "    }\n",
       "\n",
       "    .dataframe tbody tr th {\n",
       "        vertical-align: top;\n",
       "    }\n",
       "\n",
       "    .dataframe thead th {\n",
       "        text-align: right;\n",
       "    }\n",
       "</style>\n",
       "<table border=\"1\" class=\"dataframe\">\n",
       "  <thead>\n",
       "    <tr style=\"text-align: right;\">\n",
       "      <th></th>\n",
       "      <th>Name</th>\n",
       "      <th>Nationality</th>\n",
       "      <th>National_Position</th>\n",
       "      <th>National_Kit</th>\n",
       "      <th>Club</th>\n",
       "      <th>Club_Position</th>\n",
       "      <th>Club_Kit</th>\n",
       "      <th>Club_Joining</th>\n",
       "      <th>Contract_Expiry</th>\n",
       "      <th>Rating</th>\n",
       "      <th>...</th>\n",
       "      <th>Long_Shots</th>\n",
       "      <th>Curve</th>\n",
       "      <th>Freekick_Accuracy</th>\n",
       "      <th>Penalties</th>\n",
       "      <th>Volleys</th>\n",
       "      <th>GK_Positioning</th>\n",
       "      <th>GK_Diving</th>\n",
       "      <th>GK_Kicking</th>\n",
       "      <th>GK_Handling</th>\n",
       "      <th>GK_Reflexes</th>\n",
       "    </tr>\n",
       "  </thead>\n",
       "  <tbody>\n",
       "    <tr>\n",
       "      <th>0</th>\n",
       "      <td>Cristiano Ronaldo</td>\n",
       "      <td>Portugal</td>\n",
       "      <td>LS</td>\n",
       "      <td>7.0</td>\n",
       "      <td>Real Madrid</td>\n",
       "      <td>LW</td>\n",
       "      <td>7.0</td>\n",
       "      <td>07/01/2009</td>\n",
       "      <td>2021.0</td>\n",
       "      <td>94</td>\n",
       "      <td>...</td>\n",
       "      <td>90</td>\n",
       "      <td>81</td>\n",
       "      <td>76</td>\n",
       "      <td>85</td>\n",
       "      <td>88</td>\n",
       "      <td>14</td>\n",
       "      <td>7</td>\n",
       "      <td>15</td>\n",
       "      <td>11</td>\n",
       "      <td>11</td>\n",
       "    </tr>\n",
       "    <tr>\n",
       "      <th>1</th>\n",
       "      <td>Lionel Messi</td>\n",
       "      <td>Argentina</td>\n",
       "      <td>RW</td>\n",
       "      <td>10.0</td>\n",
       "      <td>FC Barcelona</td>\n",
       "      <td>RW</td>\n",
       "      <td>10.0</td>\n",
       "      <td>07/01/2004</td>\n",
       "      <td>2018.0</td>\n",
       "      <td>93</td>\n",
       "      <td>...</td>\n",
       "      <td>88</td>\n",
       "      <td>89</td>\n",
       "      <td>90</td>\n",
       "      <td>74</td>\n",
       "      <td>85</td>\n",
       "      <td>14</td>\n",
       "      <td>6</td>\n",
       "      <td>15</td>\n",
       "      <td>11</td>\n",
       "      <td>8</td>\n",
       "    </tr>\n",
       "    <tr>\n",
       "      <th>2</th>\n",
       "      <td>Neymar</td>\n",
       "      <td>Brazil</td>\n",
       "      <td>LW</td>\n",
       "      <td>10.0</td>\n",
       "      <td>FC Barcelona</td>\n",
       "      <td>LW</td>\n",
       "      <td>11.0</td>\n",
       "      <td>07/01/2013</td>\n",
       "      <td>2021.0</td>\n",
       "      <td>92</td>\n",
       "      <td>...</td>\n",
       "      <td>77</td>\n",
       "      <td>79</td>\n",
       "      <td>84</td>\n",
       "      <td>81</td>\n",
       "      <td>83</td>\n",
       "      <td>15</td>\n",
       "      <td>9</td>\n",
       "      <td>15</td>\n",
       "      <td>9</td>\n",
       "      <td>11</td>\n",
       "    </tr>\n",
       "    <tr>\n",
       "      <th>3</th>\n",
       "      <td>Luis Suárez</td>\n",
       "      <td>Uruguay</td>\n",
       "      <td>LS</td>\n",
       "      <td>9.0</td>\n",
       "      <td>FC Barcelona</td>\n",
       "      <td>ST</td>\n",
       "      <td>9.0</td>\n",
       "      <td>07/11/2014</td>\n",
       "      <td>2021.0</td>\n",
       "      <td>92</td>\n",
       "      <td>...</td>\n",
       "      <td>86</td>\n",
       "      <td>86</td>\n",
       "      <td>84</td>\n",
       "      <td>85</td>\n",
       "      <td>88</td>\n",
       "      <td>33</td>\n",
       "      <td>27</td>\n",
       "      <td>31</td>\n",
       "      <td>25</td>\n",
       "      <td>37</td>\n",
       "    </tr>\n",
       "    <tr>\n",
       "      <th>4</th>\n",
       "      <td>Manuel Neuer</td>\n",
       "      <td>Germany</td>\n",
       "      <td>GK</td>\n",
       "      <td>1.0</td>\n",
       "      <td>FC Bayern</td>\n",
       "      <td>GK</td>\n",
       "      <td>1.0</td>\n",
       "      <td>07/01/2011</td>\n",
       "      <td>2021.0</td>\n",
       "      <td>92</td>\n",
       "      <td>...</td>\n",
       "      <td>16</td>\n",
       "      <td>14</td>\n",
       "      <td>11</td>\n",
       "      <td>47</td>\n",
       "      <td>11</td>\n",
       "      <td>91</td>\n",
       "      <td>89</td>\n",
       "      <td>95</td>\n",
       "      <td>90</td>\n",
       "      <td>89</td>\n",
       "    </tr>\n",
       "    <tr>\n",
       "      <th>...</th>\n",
       "      <td>...</td>\n",
       "      <td>...</td>\n",
       "      <td>...</td>\n",
       "      <td>...</td>\n",
       "      <td>...</td>\n",
       "      <td>...</td>\n",
       "      <td>...</td>\n",
       "      <td>...</td>\n",
       "      <td>...</td>\n",
       "      <td>...</td>\n",
       "      <td>...</td>\n",
       "      <td>...</td>\n",
       "      <td>...</td>\n",
       "      <td>...</td>\n",
       "      <td>...</td>\n",
       "      <td>...</td>\n",
       "      <td>...</td>\n",
       "      <td>...</td>\n",
       "      <td>...</td>\n",
       "      <td>...</td>\n",
       "      <td>...</td>\n",
       "    </tr>\n",
       "    <tr>\n",
       "      <th>17583</th>\n",
       "      <td>Adam Dunbar</td>\n",
       "      <td>Republic of Ireland</td>\n",
       "      <td>NaN</td>\n",
       "      <td>NaN</td>\n",
       "      <td>Wexford Youths</td>\n",
       "      <td>Sub</td>\n",
       "      <td>30.0</td>\n",
       "      <td>02/01/2016</td>\n",
       "      <td>2020.0</td>\n",
       "      <td>45</td>\n",
       "      <td>...</td>\n",
       "      <td>13</td>\n",
       "      <td>11</td>\n",
       "      <td>13</td>\n",
       "      <td>15</td>\n",
       "      <td>12</td>\n",
       "      <td>39</td>\n",
       "      <td>44</td>\n",
       "      <td>52</td>\n",
       "      <td>41</td>\n",
       "      <td>46</td>\n",
       "    </tr>\n",
       "    <tr>\n",
       "      <th>17584</th>\n",
       "      <td>Dylan McGoey</td>\n",
       "      <td>Republic of Ireland</td>\n",
       "      <td>NaN</td>\n",
       "      <td>NaN</td>\n",
       "      <td>Longford Town</td>\n",
       "      <td>Sub</td>\n",
       "      <td>28.0</td>\n",
       "      <td>01/01/2016</td>\n",
       "      <td>2020.0</td>\n",
       "      <td>45</td>\n",
       "      <td>...</td>\n",
       "      <td>11</td>\n",
       "      <td>12</td>\n",
       "      <td>13</td>\n",
       "      <td>16</td>\n",
       "      <td>12</td>\n",
       "      <td>47</td>\n",
       "      <td>39</td>\n",
       "      <td>46</td>\n",
       "      <td>46</td>\n",
       "      <td>46</td>\n",
       "    </tr>\n",
       "    <tr>\n",
       "      <th>17585</th>\n",
       "      <td>Tommy Ouldridge</td>\n",
       "      <td>England</td>\n",
       "      <td>NaN</td>\n",
       "      <td>NaN</td>\n",
       "      <td>Swindon Town</td>\n",
       "      <td>Res</td>\n",
       "      <td>32.0</td>\n",
       "      <td>03/03/2015</td>\n",
       "      <td>2023.0</td>\n",
       "      <td>45</td>\n",
       "      <td>...</td>\n",
       "      <td>42</td>\n",
       "      <td>35</td>\n",
       "      <td>36</td>\n",
       "      <td>42</td>\n",
       "      <td>37</td>\n",
       "      <td>15</td>\n",
       "      <td>7</td>\n",
       "      <td>13</td>\n",
       "      <td>14</td>\n",
       "      <td>7</td>\n",
       "    </tr>\n",
       "    <tr>\n",
       "      <th>17586</th>\n",
       "      <td>Mark Foden</td>\n",
       "      <td>Scotland</td>\n",
       "      <td>NaN</td>\n",
       "      <td>NaN</td>\n",
       "      <td>Ross County</td>\n",
       "      <td>Sub</td>\n",
       "      <td>45.0</td>\n",
       "      <td>03/02/2016</td>\n",
       "      <td>2017.0</td>\n",
       "      <td>45</td>\n",
       "      <td>...</td>\n",
       "      <td>12</td>\n",
       "      <td>13</td>\n",
       "      <td>12</td>\n",
       "      <td>24</td>\n",
       "      <td>12</td>\n",
       "      <td>40</td>\n",
       "      <td>45</td>\n",
       "      <td>44</td>\n",
       "      <td>43</td>\n",
       "      <td>45</td>\n",
       "    </tr>\n",
       "    <tr>\n",
       "      <th>17587</th>\n",
       "      <td>Barry Richardson</td>\n",
       "      <td>England</td>\n",
       "      <td>NaN</td>\n",
       "      <td>NaN</td>\n",
       "      <td>Wycombe</td>\n",
       "      <td>Sub</td>\n",
       "      <td>13.0</td>\n",
       "      <td>01/30/2014</td>\n",
       "      <td>2023.0</td>\n",
       "      <td>45</td>\n",
       "      <td>...</td>\n",
       "      <td>16</td>\n",
       "      <td>12</td>\n",
       "      <td>11</td>\n",
       "      <td>22</td>\n",
       "      <td>12</td>\n",
       "      <td>58</td>\n",
       "      <td>37</td>\n",
       "      <td>37</td>\n",
       "      <td>51</td>\n",
       "      <td>33</td>\n",
       "    </tr>\n",
       "  </tbody>\n",
       "</table>\n",
       "<p>17588 rows × 53 columns</p>\n",
       "</div>"
      ],
      "text/plain": [
       "                    Name          Nationality National_Position  National_Kit  \\\n",
       "0      Cristiano Ronaldo             Portugal                LS           7.0   \n",
       "1           Lionel Messi            Argentina                RW          10.0   \n",
       "2                 Neymar               Brazil                LW          10.0   \n",
       "3            Luis Suárez              Uruguay                LS           9.0   \n",
       "4           Manuel Neuer              Germany                GK           1.0   \n",
       "...                  ...                  ...               ...           ...   \n",
       "17583        Adam Dunbar  Republic of Ireland               NaN           NaN   \n",
       "17584       Dylan McGoey  Republic of Ireland               NaN           NaN   \n",
       "17585    Tommy Ouldridge              England               NaN           NaN   \n",
       "17586         Mark Foden             Scotland               NaN           NaN   \n",
       "17587   Barry Richardson              England               NaN           NaN   \n",
       "\n",
       "                 Club Club_Position  Club_Kit Club_Joining  Contract_Expiry  \\\n",
       "0         Real Madrid            LW       7.0   07/01/2009           2021.0   \n",
       "1        FC Barcelona            RW      10.0   07/01/2004           2018.0   \n",
       "2        FC Barcelona            LW      11.0   07/01/2013           2021.0   \n",
       "3        FC Barcelona            ST       9.0   07/11/2014           2021.0   \n",
       "4           FC Bayern            GK       1.0   07/01/2011           2021.0   \n",
       "...               ...           ...       ...          ...              ...   \n",
       "17583  Wexford Youths           Sub      30.0   02/01/2016           2020.0   \n",
       "17584   Longford Town           Sub      28.0   01/01/2016           2020.0   \n",
       "17585    Swindon Town           Res      32.0   03/03/2015           2023.0   \n",
       "17586     Ross County           Sub      45.0   03/02/2016           2017.0   \n",
       "17587         Wycombe           Sub      13.0   01/30/2014           2023.0   \n",
       "\n",
       "       Rating  ... Long_Shots Curve Freekick_Accuracy Penalties  Volleys  \\\n",
       "0          94  ...         90    81                76        85       88   \n",
       "1          93  ...         88    89                90        74       85   \n",
       "2          92  ...         77    79                84        81       83   \n",
       "3          92  ...         86    86                84        85       88   \n",
       "4          92  ...         16    14                11        47       11   \n",
       "...       ...  ...        ...   ...               ...       ...      ...   \n",
       "17583      45  ...         13    11                13        15       12   \n",
       "17584      45  ...         11    12                13        16       12   \n",
       "17585      45  ...         42    35                36        42       37   \n",
       "17586      45  ...         12    13                12        24       12   \n",
       "17587      45  ...         16    12                11        22       12   \n",
       "\n",
       "      GK_Positioning GK_Diving  GK_Kicking  GK_Handling  GK_Reflexes  \n",
       "0                 14         7          15           11           11  \n",
       "1                 14         6          15           11            8  \n",
       "2                 15         9          15            9           11  \n",
       "3                 33        27          31           25           37  \n",
       "4                 91        89          95           90           89  \n",
       "...              ...       ...         ...          ...          ...  \n",
       "17583             39        44          52           41           46  \n",
       "17584             47        39          46           46           46  \n",
       "17585             15         7          13           14            7  \n",
       "17586             40        45          44           43           45  \n",
       "17587             58        37          37           51           33  \n",
       "\n",
       "[17588 rows x 53 columns]"
      ]
     },
     "execution_count": 3,
     "metadata": {},
     "output_type": "execute_result"
    }
   ],
   "source": [
    "# 读取文件\n",
    "player = pd.read_csv('FullData.csv')\n",
    "player"
   ]
  },
  {
   "cell_type": "code",
   "execution_count": 4,
   "metadata": {
    "pycharm": {
     "name": "#%%\n"
    }
   },
   "outputs": [
    {
     "data": {
      "text/html": [
       "<div>\n",
       "<style scoped>\n",
       "    .dataframe tbody tr th:only-of-type {\n",
       "        vertical-align: middle;\n",
       "    }\n",
       "\n",
       "    .dataframe tbody tr th {\n",
       "        vertical-align: top;\n",
       "    }\n",
       "\n",
       "    .dataframe thead th {\n",
       "        text-align: right;\n",
       "    }\n",
       "</style>\n",
       "<table border=\"1\" class=\"dataframe\">\n",
       "  <thead>\n",
       "    <tr style=\"text-align: right;\">\n",
       "      <th></th>\n",
       "      <th>Name</th>\n",
       "      <th>Nationality</th>\n",
       "      <th>National_Position</th>\n",
       "      <th>National_Kit</th>\n",
       "      <th>Club</th>\n",
       "      <th>Club_Position</th>\n",
       "      <th>Club_Kit</th>\n",
       "      <th>Club_Joining</th>\n",
       "      <th>Contract_Expiry</th>\n",
       "      <th>Rating</th>\n",
       "      <th>...</th>\n",
       "      <th>Long_Shots</th>\n",
       "      <th>Curve</th>\n",
       "      <th>Freekick_Accuracy</th>\n",
       "      <th>Penalties</th>\n",
       "      <th>Volleys</th>\n",
       "      <th>GK_Positioning</th>\n",
       "      <th>GK_Diving</th>\n",
       "      <th>GK_Kicking</th>\n",
       "      <th>GK_Handling</th>\n",
       "      <th>GK_Reflexes</th>\n",
       "    </tr>\n",
       "  </thead>\n",
       "  <tbody>\n",
       "    <tr>\n",
       "      <th>0</th>\n",
       "      <td>Cristiano Ronaldo</td>\n",
       "      <td>Portugal</td>\n",
       "      <td>LS</td>\n",
       "      <td>7.0</td>\n",
       "      <td>Real Madrid</td>\n",
       "      <td>LW</td>\n",
       "      <td>7.0</td>\n",
       "      <td>07/01/2009</td>\n",
       "      <td>2021.0</td>\n",
       "      <td>94</td>\n",
       "      <td>...</td>\n",
       "      <td>90</td>\n",
       "      <td>81</td>\n",
       "      <td>76</td>\n",
       "      <td>85</td>\n",
       "      <td>88</td>\n",
       "      <td>14</td>\n",
       "      <td>7</td>\n",
       "      <td>15</td>\n",
       "      <td>11</td>\n",
       "      <td>11</td>\n",
       "    </tr>\n",
       "    <tr>\n",
       "      <th>1</th>\n",
       "      <td>Lionel Messi</td>\n",
       "      <td>Argentina</td>\n",
       "      <td>RW</td>\n",
       "      <td>10.0</td>\n",
       "      <td>FC Barcelona</td>\n",
       "      <td>RW</td>\n",
       "      <td>10.0</td>\n",
       "      <td>07/01/2004</td>\n",
       "      <td>2018.0</td>\n",
       "      <td>93</td>\n",
       "      <td>...</td>\n",
       "      <td>88</td>\n",
       "      <td>89</td>\n",
       "      <td>90</td>\n",
       "      <td>74</td>\n",
       "      <td>85</td>\n",
       "      <td>14</td>\n",
       "      <td>6</td>\n",
       "      <td>15</td>\n",
       "      <td>11</td>\n",
       "      <td>8</td>\n",
       "    </tr>\n",
       "    <tr>\n",
       "      <th>2</th>\n",
       "      <td>Neymar</td>\n",
       "      <td>Brazil</td>\n",
       "      <td>LW</td>\n",
       "      <td>10.0</td>\n",
       "      <td>FC Barcelona</td>\n",
       "      <td>LW</td>\n",
       "      <td>11.0</td>\n",
       "      <td>07/01/2013</td>\n",
       "      <td>2021.0</td>\n",
       "      <td>92</td>\n",
       "      <td>...</td>\n",
       "      <td>77</td>\n",
       "      <td>79</td>\n",
       "      <td>84</td>\n",
       "      <td>81</td>\n",
       "      <td>83</td>\n",
       "      <td>15</td>\n",
       "      <td>9</td>\n",
       "      <td>15</td>\n",
       "      <td>9</td>\n",
       "      <td>11</td>\n",
       "    </tr>\n",
       "    <tr>\n",
       "      <th>3</th>\n",
       "      <td>Luis Suárez</td>\n",
       "      <td>Uruguay</td>\n",
       "      <td>LS</td>\n",
       "      <td>9.0</td>\n",
       "      <td>FC Barcelona</td>\n",
       "      <td>ST</td>\n",
       "      <td>9.0</td>\n",
       "      <td>07/11/2014</td>\n",
       "      <td>2021.0</td>\n",
       "      <td>92</td>\n",
       "      <td>...</td>\n",
       "      <td>86</td>\n",
       "      <td>86</td>\n",
       "      <td>84</td>\n",
       "      <td>85</td>\n",
       "      <td>88</td>\n",
       "      <td>33</td>\n",
       "      <td>27</td>\n",
       "      <td>31</td>\n",
       "      <td>25</td>\n",
       "      <td>37</td>\n",
       "    </tr>\n",
       "    <tr>\n",
       "      <th>4</th>\n",
       "      <td>Manuel Neuer</td>\n",
       "      <td>Germany</td>\n",
       "      <td>GK</td>\n",
       "      <td>1.0</td>\n",
       "      <td>FC Bayern</td>\n",
       "      <td>GK</td>\n",
       "      <td>1.0</td>\n",
       "      <td>07/01/2011</td>\n",
       "      <td>2021.0</td>\n",
       "      <td>92</td>\n",
       "      <td>...</td>\n",
       "      <td>16</td>\n",
       "      <td>14</td>\n",
       "      <td>11</td>\n",
       "      <td>47</td>\n",
       "      <td>11</td>\n",
       "      <td>91</td>\n",
       "      <td>89</td>\n",
       "      <td>95</td>\n",
       "      <td>90</td>\n",
       "      <td>89</td>\n",
       "    </tr>\n",
       "  </tbody>\n",
       "</table>\n",
       "<p>5 rows × 53 columns</p>\n",
       "</div>"
      ],
      "text/plain": [
       "                Name Nationality National_Position  National_Kit  \\\n",
       "0  Cristiano Ronaldo    Portugal                LS           7.0   \n",
       "1       Lionel Messi   Argentina                RW          10.0   \n",
       "2             Neymar      Brazil                LW          10.0   \n",
       "3        Luis Suárez     Uruguay                LS           9.0   \n",
       "4       Manuel Neuer     Germany                GK           1.0   \n",
       "\n",
       "           Club Club_Position  Club_Kit Club_Joining  Contract_Expiry  Rating  \\\n",
       "0   Real Madrid            LW       7.0   07/01/2009           2021.0      94   \n",
       "1  FC Barcelona            RW      10.0   07/01/2004           2018.0      93   \n",
       "2  FC Barcelona            LW      11.0   07/01/2013           2021.0      92   \n",
       "3  FC Barcelona            ST       9.0   07/11/2014           2021.0      92   \n",
       "4     FC Bayern            GK       1.0   07/01/2011           2021.0      92   \n",
       "\n",
       "   ... Long_Shots Curve Freekick_Accuracy Penalties  Volleys GK_Positioning  \\\n",
       "0  ...         90    81                76        85       88             14   \n",
       "1  ...         88    89                90        74       85             14   \n",
       "2  ...         77    79                84        81       83             15   \n",
       "3  ...         86    86                84        85       88             33   \n",
       "4  ...         16    14                11        47       11             91   \n",
       "\n",
       "  GK_Diving  GK_Kicking  GK_Handling  GK_Reflexes  \n",
       "0         7          15           11           11  \n",
       "1         6          15           11            8  \n",
       "2         9          15            9           11  \n",
       "3        27          31           25           37  \n",
       "4        89          95           90           89  \n",
       "\n",
       "[5 rows x 53 columns]"
      ]
     },
     "execution_count": 4,
     "metadata": {},
     "output_type": "execute_result"
    }
   ],
   "source": [
    "# head()显示前几行\n",
    "player.head(5)"
   ]
  },
  {
   "cell_type": "code",
   "execution_count": 5,
   "metadata": {
    "pycharm": {
     "name": "#%%\n"
    }
   },
   "outputs": [
    {
     "data": {
      "text/html": [
       "<div>\n",
       "<style scoped>\n",
       "    .dataframe tbody tr th:only-of-type {\n",
       "        vertical-align: middle;\n",
       "    }\n",
       "\n",
       "    .dataframe tbody tr th {\n",
       "        vertical-align: top;\n",
       "    }\n",
       "\n",
       "    .dataframe thead th {\n",
       "        text-align: right;\n",
       "    }\n",
       "</style>\n",
       "<table border=\"1\" class=\"dataframe\">\n",
       "  <thead>\n",
       "    <tr style=\"text-align: right;\">\n",
       "      <th></th>\n",
       "      <th>Name</th>\n",
       "      <th>Nationality</th>\n",
       "      <th>National_Position</th>\n",
       "      <th>National_Kit</th>\n",
       "      <th>Club</th>\n",
       "      <th>Club_Position</th>\n",
       "      <th>Club_Kit</th>\n",
       "      <th>Club_Joining</th>\n",
       "      <th>Contract_Expiry</th>\n",
       "      <th>Rating</th>\n",
       "      <th>...</th>\n",
       "      <th>Long_Shots</th>\n",
       "      <th>Curve</th>\n",
       "      <th>Freekick_Accuracy</th>\n",
       "      <th>Penalties</th>\n",
       "      <th>Volleys</th>\n",
       "      <th>GK_Positioning</th>\n",
       "      <th>GK_Diving</th>\n",
       "      <th>GK_Kicking</th>\n",
       "      <th>GK_Handling</th>\n",
       "      <th>GK_Reflexes</th>\n",
       "    </tr>\n",
       "  </thead>\n",
       "  <tbody>\n",
       "    <tr>\n",
       "      <th>17585</th>\n",
       "      <td>Tommy Ouldridge</td>\n",
       "      <td>England</td>\n",
       "      <td>NaN</td>\n",
       "      <td>NaN</td>\n",
       "      <td>Swindon Town</td>\n",
       "      <td>Res</td>\n",
       "      <td>32.0</td>\n",
       "      <td>03/03/2015</td>\n",
       "      <td>2023.0</td>\n",
       "      <td>45</td>\n",
       "      <td>...</td>\n",
       "      <td>42</td>\n",
       "      <td>35</td>\n",
       "      <td>36</td>\n",
       "      <td>42</td>\n",
       "      <td>37</td>\n",
       "      <td>15</td>\n",
       "      <td>7</td>\n",
       "      <td>13</td>\n",
       "      <td>14</td>\n",
       "      <td>7</td>\n",
       "    </tr>\n",
       "    <tr>\n",
       "      <th>17586</th>\n",
       "      <td>Mark Foden</td>\n",
       "      <td>Scotland</td>\n",
       "      <td>NaN</td>\n",
       "      <td>NaN</td>\n",
       "      <td>Ross County</td>\n",
       "      <td>Sub</td>\n",
       "      <td>45.0</td>\n",
       "      <td>03/02/2016</td>\n",
       "      <td>2017.0</td>\n",
       "      <td>45</td>\n",
       "      <td>...</td>\n",
       "      <td>12</td>\n",
       "      <td>13</td>\n",
       "      <td>12</td>\n",
       "      <td>24</td>\n",
       "      <td>12</td>\n",
       "      <td>40</td>\n",
       "      <td>45</td>\n",
       "      <td>44</td>\n",
       "      <td>43</td>\n",
       "      <td>45</td>\n",
       "    </tr>\n",
       "    <tr>\n",
       "      <th>17587</th>\n",
       "      <td>Barry Richardson</td>\n",
       "      <td>England</td>\n",
       "      <td>NaN</td>\n",
       "      <td>NaN</td>\n",
       "      <td>Wycombe</td>\n",
       "      <td>Sub</td>\n",
       "      <td>13.0</td>\n",
       "      <td>01/30/2014</td>\n",
       "      <td>2023.0</td>\n",
       "      <td>45</td>\n",
       "      <td>...</td>\n",
       "      <td>16</td>\n",
       "      <td>12</td>\n",
       "      <td>11</td>\n",
       "      <td>22</td>\n",
       "      <td>12</td>\n",
       "      <td>58</td>\n",
       "      <td>37</td>\n",
       "      <td>37</td>\n",
       "      <td>51</td>\n",
       "      <td>33</td>\n",
       "    </tr>\n",
       "  </tbody>\n",
       "</table>\n",
       "<p>3 rows × 53 columns</p>\n",
       "</div>"
      ],
      "text/plain": [
       "                   Name Nationality National_Position  National_Kit  \\\n",
       "17585   Tommy Ouldridge     England               NaN           NaN   \n",
       "17586        Mark Foden    Scotland               NaN           NaN   \n",
       "17587  Barry Richardson     England               NaN           NaN   \n",
       "\n",
       "               Club Club_Position  Club_Kit Club_Joining  Contract_Expiry  \\\n",
       "17585  Swindon Town           Res      32.0   03/03/2015           2023.0   \n",
       "17586   Ross County           Sub      45.0   03/02/2016           2017.0   \n",
       "17587       Wycombe           Sub      13.0   01/30/2014           2023.0   \n",
       "\n",
       "       Rating  ... Long_Shots Curve Freekick_Accuracy Penalties  Volleys  \\\n",
       "17585      45  ...         42    35                36        42       37   \n",
       "17586      45  ...         12    13                12        24       12   \n",
       "17587      45  ...         16    12                11        22       12   \n",
       "\n",
       "      GK_Positioning GK_Diving  GK_Kicking  GK_Handling  GK_Reflexes  \n",
       "17585             15         7          13           14            7  \n",
       "17586             40        45          44           43           45  \n",
       "17587             58        37          37           51           33  \n",
       "\n",
       "[3 rows x 53 columns]"
      ]
     },
     "execution_count": 5,
     "metadata": {},
     "output_type": "execute_result"
    }
   ],
   "source": [
    "# tail()显示后几行\n",
    "player.tail(3)"
   ]
  },
  {
   "cell_type": "code",
   "execution_count": 58,
   "metadata": {
    "pycharm": {
     "name": "#%%\n"
    }
   },
   "outputs": [
    {
     "data": {
      "text/html": [
       "<div>\n",
       "<style scoped>\n",
       "    .dataframe tbody tr th:only-of-type {\n",
       "        vertical-align: middle;\n",
       "    }\n",
       "\n",
       "    .dataframe tbody tr th {\n",
       "        vertical-align: top;\n",
       "    }\n",
       "\n",
       "    .dataframe thead th {\n",
       "        text-align: right;\n",
       "    }\n",
       "</style>\n",
       "<table border=\"1\" class=\"dataframe\">\n",
       "  <thead>\n",
       "    <tr style=\"text-align: right;\">\n",
       "      <th></th>\n",
       "      <th>Name</th>\n",
       "      <th>Nationality</th>\n",
       "      <th>...</th>\n",
       "      <th>GK_Handling</th>\n",
       "      <th>GK_Reflexes</th>\n",
       "    </tr>\n",
       "  </thead>\n",
       "  <tbody>\n",
       "    <tr>\n",
       "      <th>10010</th>\n",
       "      <td>Juan Komar</td>\n",
       "      <td>Argentina</td>\n",
       "      <td>...</td>\n",
       "      <td>7</td>\n",
       "      <td>8</td>\n",
       "    </tr>\n",
       "    <tr>\n",
       "      <th>6275</th>\n",
       "      <td>Brian Sarmiento</td>\n",
       "      <td>Argentina</td>\n",
       "      <td>...</td>\n",
       "      <td>15</td>\n",
       "      <td>6</td>\n",
       "    </tr>\n",
       "    <tr>\n",
       "      <th>5217</th>\n",
       "      <td>Gaëtan Charbonnier</td>\n",
       "      <td>France</td>\n",
       "      <td>...</td>\n",
       "      <td>13</td>\n",
       "      <td>16</td>\n",
       "    </tr>\n",
       "    <tr>\n",
       "      <th>2400</th>\n",
       "      <td>Ismaël Traoré</td>\n",
       "      <td>Ivory Coast</td>\n",
       "      <td>...</td>\n",
       "      <td>10</td>\n",
       "      <td>15</td>\n",
       "    </tr>\n",
       "    <tr>\n",
       "      <th>13723</th>\n",
       "      <td>Thomas Dähne</td>\n",
       "      <td>Germany</td>\n",
       "      <td>...</td>\n",
       "      <td>56</td>\n",
       "      <td>65</td>\n",
       "    </tr>\n",
       "    <tr>\n",
       "      <th>7372</th>\n",
       "      <td>Ritchie Kitoko</td>\n",
       "      <td>Belgium</td>\n",
       "      <td>...</td>\n",
       "      <td>10</td>\n",
       "      <td>7</td>\n",
       "    </tr>\n",
       "  </tbody>\n",
       "</table>\n",
       "<p>6 rows × 53 columns</p>\n",
       "</div>"
      ],
      "text/plain": [
       "                     Name  Nationality  ... GK_Handling  GK_Reflexes\n",
       "10010          Juan Komar    Argentina  ...           7            8\n",
       "6275      Brian Sarmiento    Argentina  ...          15            6\n",
       "5217   Gaëtan Charbonnier       France  ...          13           16\n",
       "2400        Ismaël Traoré  Ivory Coast  ...          10           15\n",
       "13723        Thomas Dähne      Germany  ...          56           65\n",
       "7372       Ritchie Kitoko      Belgium  ...          10            7\n",
       "\n",
       "[6 rows x 53 columns]"
      ]
     },
     "execution_count": 58,
     "metadata": {},
     "output_type": "execute_result"
    }
   ],
   "source": [
    "# sample()随机显示几行\n",
    "player.sample(6)"
   ]
  },
  {
   "cell_type": "code",
   "execution_count": 59,
   "metadata": {
    "pycharm": {
     "name": "#%%\n"
    }
   },
   "outputs": [
    {
     "data": {
      "text/html": [
       "<div>\n",
       "<style scoped>\n",
       "    .dataframe tbody tr th:only-of-type {\n",
       "        vertical-align: middle;\n",
       "    }\n",
       "\n",
       "    .dataframe tbody tr th {\n",
       "        vertical-align: top;\n",
       "    }\n",
       "\n",
       "    .dataframe thead th {\n",
       "        text-align: right;\n",
       "    }\n",
       "</style>\n",
       "<table border=\"1\" class=\"dataframe\">\n",
       "  <thead>\n",
       "    <tr style=\"text-align: right;\">\n",
       "      <th></th>\n",
       "      <th>Name</th>\n",
       "      <th>Nationality</th>\n",
       "      <th>...</th>\n",
       "      <th>GK_Handling</th>\n",
       "      <th>GK_Reflexes</th>\n",
       "    </tr>\n",
       "  </thead>\n",
       "  <tbody>\n",
       "    <tr>\n",
       "      <th>0</th>\n",
       "      <td>Cristiano Ronaldo</td>\n",
       "      <td>Portugal</td>\n",
       "      <td>...</td>\n",
       "      <td>11</td>\n",
       "      <td>11</td>\n",
       "    </tr>\n",
       "    <tr>\n",
       "      <th>1</th>\n",
       "      <td>Lionel Messi</td>\n",
       "      <td>Argentina</td>\n",
       "      <td>...</td>\n",
       "      <td>11</td>\n",
       "      <td>8</td>\n",
       "    </tr>\n",
       "    <tr>\n",
       "      <th>2</th>\n",
       "      <td>Neymar</td>\n",
       "      <td>Brazil</td>\n",
       "      <td>...</td>\n",
       "      <td>9</td>\n",
       "      <td>11</td>\n",
       "    </tr>\n",
       "    <tr>\n",
       "      <th>3</th>\n",
       "      <td>Luis Suárez</td>\n",
       "      <td>Uruguay</td>\n",
       "      <td>...</td>\n",
       "      <td>25</td>\n",
       "      <td>37</td>\n",
       "    </tr>\n",
       "    <tr>\n",
       "      <th>4</th>\n",
       "      <td>Manuel Neuer</td>\n",
       "      <td>Germany</td>\n",
       "      <td>...</td>\n",
       "      <td>90</td>\n",
       "      <td>89</td>\n",
       "    </tr>\n",
       "  </tbody>\n",
       "</table>\n",
       "<p>5 rows × 53 columns</p>\n",
       "</div>"
      ],
      "text/plain": [
       "                Name Nationality  ... GK_Handling  GK_Reflexes\n",
       "0  Cristiano Ronaldo    Portugal  ...          11           11\n",
       "1       Lionel Messi   Argentina  ...          11            8\n",
       "2             Neymar      Brazil  ...           9           11\n",
       "3        Luis Suárez     Uruguay  ...          25           37\n",
       "4       Manuel Neuer     Germany  ...          90           89\n",
       "\n",
       "[5 rows x 53 columns]"
      ]
     },
     "execution_count": 59,
     "metadata": {},
     "output_type": "execute_result"
    }
   ],
   "source": [
    "# 设置显示的列\n",
    "pd.set_option('display.max_columns', 5)\n",
    "player.head(5)"
   ]
  },
  {
   "cell_type": "code",
   "execution_count": 60,
   "metadata": {
    "pycharm": {
     "name": "#%%\n"
    }
   },
   "outputs": [
    {
     "name": "stdout",
     "output_type": "stream",
     "text": [
      "<class 'pandas.core.frame.DataFrame'>\n",
      "RangeIndex: 17588 entries, 0 to 17587\n",
      "Data columns (total 53 columns):\n",
      " #   Column              Non-Null Count  Dtype  \n",
      "---  ------              --------------  -----  \n",
      " 0   Name                17588 non-null  object \n",
      " 1   Nationality         17588 non-null  object \n",
      " 2   National_Position   1075 non-null   object \n",
      " 3   National_Kit        1075 non-null   float64\n",
      " 4   Club                17588 non-null  object \n",
      " 5   Club_Position       17587 non-null  object \n",
      " 6   Club_Kit            17587 non-null  float64\n",
      " 7   Club_Joining        17587 non-null  object \n",
      " 8   Contract_Expiry     17587 non-null  float64\n",
      " 9   Rating              17588 non-null  int64  \n",
      " 10  Height              17588 non-null  object \n",
      " 11  Weight              17588 non-null  object \n",
      " 12  Preffered_Foot      17588 non-null  object \n",
      " 13  Birth_Date          17588 non-null  object \n",
      " 14  Age                 17588 non-null  int64  \n",
      " 15  Preffered_Position  17588 non-null  object \n",
      " 16  Work_Rate           17588 non-null  object \n",
      " 17  Weak_foot           17588 non-null  int64  \n",
      " 18  Skill_Moves         17588 non-null  int64  \n",
      " 19  Ball_Control        17588 non-null  int64  \n",
      " 20  Dribbling           17588 non-null  int64  \n",
      " 21  Marking             17588 non-null  int64  \n",
      " 22  Sliding_Tackle      17588 non-null  int64  \n",
      " 23  Standing_Tackle     17588 non-null  int64  \n",
      " 24  Aggression          17588 non-null  int64  \n",
      " 25  Reactions           17588 non-null  int64  \n",
      " 26  Attacking_Position  17588 non-null  int64  \n",
      " 27  Interceptions       17588 non-null  int64  \n",
      " 28  Vision              17588 non-null  int64  \n",
      " 29  Composure           17588 non-null  int64  \n",
      " 30  Crossing            17588 non-null  int64  \n",
      " 31  Short_Pass          17588 non-null  int64  \n",
      " 32  Long_Pass           17588 non-null  int64  \n",
      " 33  Acceleration        17588 non-null  int64  \n",
      " 34  Speed               17588 non-null  int64  \n",
      " 35  Stamina             17588 non-null  int64  \n",
      " 36  Strength            17588 non-null  int64  \n",
      " 37  Balance             17588 non-null  int64  \n",
      " 38  Agility             17588 non-null  int64  \n",
      " 39  Jumping             17588 non-null  int64  \n",
      " 40  Heading             17588 non-null  int64  \n",
      " 41  Shot_Power          17588 non-null  int64  \n",
      " 42  Finishing           17588 non-null  int64  \n",
      " 43  Long_Shots          17588 non-null  int64  \n",
      " 44  Curve               17588 non-null  int64  \n",
      " 45  Freekick_Accuracy   17588 non-null  int64  \n",
      " 46  Penalties           17588 non-null  int64  \n",
      " 47  Volleys             17588 non-null  int64  \n",
      " 48  GK_Positioning      17588 non-null  int64  \n",
      " 49  GK_Diving           17588 non-null  int64  \n",
      " 50  GK_Kicking          17588 non-null  int64  \n",
      " 51  GK_Handling         17588 non-null  int64  \n",
      " 52  GK_Reflexes         17588 non-null  int64  \n",
      "dtypes: float64(3), int64(38), object(12)\n",
      "memory usage: 7.1+ MB\n"
     ]
    }
   ],
   "source": [
    "# 缺值处理\n",
    "player.info()"
   ]
  },
  {
   "cell_type": "code",
   "execution_count": 61,
   "metadata": {
    "pycharm": {
     "name": "#%%\n"
    }
   },
   "outputs": [
    {
     "data": {
      "text/plain": [
       "0        False\n",
       "1        False\n",
       "2        False\n",
       "3        False\n",
       "4        False\n",
       "         ...  \n",
       "17583    False\n",
       "17584    False\n",
       "17585    False\n",
       "17586    False\n",
       "17587    False\n",
       "Name: Club_Position, Length: 17588, dtype: bool"
      ]
     },
     "execution_count": 61,
     "metadata": {},
     "output_type": "execute_result"
    }
   ],
   "source": [
    "# 处理缺失值\n",
    "# 查看是否有缺失值\n",
    "player['Club_Position'].isnull()"
   ]
  },
  {
   "cell_type": "code",
   "execution_count": 62,
   "metadata": {
    "pycharm": {
     "name": "#%%\n"
    }
   },
   "outputs": [
    {
     "data": {
      "text/plain": [
       "True"
      ]
     },
     "execution_count": 62,
     "metadata": {},
     "output_type": "execute_result"
    }
   ],
   "source": [
    "# any()\n",
    "player['Club_Position'].isnull().any()"
   ]
  },
  {
   "cell_type": "code",
   "execution_count": 63,
   "metadata": {
    "pycharm": {
     "name": "#%%\n"
    }
   },
   "outputs": [
    {
     "data": {
      "text/html": [
       "<div>\n",
       "<style scoped>\n",
       "    .dataframe tbody tr th:only-of-type {\n",
       "        vertical-align: middle;\n",
       "    }\n",
       "\n",
       "    .dataframe tbody tr th {\n",
       "        vertical-align: top;\n",
       "    }\n",
       "\n",
       "    .dataframe thead th {\n",
       "        text-align: right;\n",
       "    }\n",
       "</style>\n",
       "<table border=\"1\" class=\"dataframe\">\n",
       "  <thead>\n",
       "    <tr style=\"text-align: right;\">\n",
       "      <th></th>\n",
       "      <th>Name</th>\n",
       "      <th>Nationality</th>\n",
       "      <th>...</th>\n",
       "      <th>GK_Handling</th>\n",
       "      <th>GK_Reflexes</th>\n",
       "    </tr>\n",
       "  </thead>\n",
       "  <tbody>\n",
       "    <tr>\n",
       "      <th>383</th>\n",
       "      <td>Didier Drogba</td>\n",
       "      <td>Ivory Coast</td>\n",
       "      <td>...</td>\n",
       "      <td>11</td>\n",
       "      <td>14</td>\n",
       "    </tr>\n",
       "  </tbody>\n",
       "</table>\n",
       "<p>1 rows × 53 columns</p>\n",
       "</div>"
      ],
      "text/plain": [
       "              Name  Nationality  ... GK_Handling  GK_Reflexes\n",
       "383  Didier Drogba  Ivory Coast  ...          11           14\n",
       "\n",
       "[1 rows x 53 columns]"
      ]
     },
     "execution_count": 63,
     "metadata": {},
     "output_type": "execute_result"
    }
   ],
   "source": [
    "# 通过过滤获取缺值\n",
    "player[player['Club_Position'].isnull()]"
   ]
  },
  {
   "cell_type": "code",
   "execution_count": 64,
   "metadata": {
    "pycharm": {
     "name": "#%%\n"
    }
   },
   "outputs": [
    {
     "data": {
      "text/html": [
       "<div>\n",
       "<style scoped>\n",
       "    .dataframe tbody tr th:only-of-type {\n",
       "        vertical-align: middle;\n",
       "    }\n",
       "\n",
       "    .dataframe tbody tr th {\n",
       "        vertical-align: top;\n",
       "    }\n",
       "\n",
       "    .dataframe thead th {\n",
       "        text-align: right;\n",
       "    }\n",
       "</style>\n",
       "<table border=\"1\" class=\"dataframe\">\n",
       "  <thead>\n",
       "    <tr style=\"text-align: right;\">\n",
       "      <th></th>\n",
       "      <th>Name</th>\n",
       "      <th>Nationality</th>\n",
       "      <th>...</th>\n",
       "      <th>GK_Handling</th>\n",
       "      <th>GK_Reflexes</th>\n",
       "    </tr>\n",
       "  </thead>\n",
       "  <tbody>\n",
       "    <tr>\n",
       "      <th>0</th>\n",
       "      <td>Cristiano Ronaldo</td>\n",
       "      <td>Portugal</td>\n",
       "      <td>...</td>\n",
       "      <td>11</td>\n",
       "      <td>11</td>\n",
       "    </tr>\n",
       "    <tr>\n",
       "      <th>1</th>\n",
       "      <td>Lionel Messi</td>\n",
       "      <td>Argentina</td>\n",
       "      <td>...</td>\n",
       "      <td>11</td>\n",
       "      <td>8</td>\n",
       "    </tr>\n",
       "    <tr>\n",
       "      <th>2</th>\n",
       "      <td>Neymar</td>\n",
       "      <td>Brazil</td>\n",
       "      <td>...</td>\n",
       "      <td>9</td>\n",
       "      <td>11</td>\n",
       "    </tr>\n",
       "    <tr>\n",
       "      <th>3</th>\n",
       "      <td>Luis Suárez</td>\n",
       "      <td>Uruguay</td>\n",
       "      <td>...</td>\n",
       "      <td>25</td>\n",
       "      <td>37</td>\n",
       "    </tr>\n",
       "    <tr>\n",
       "      <th>4</th>\n",
       "      <td>Manuel Neuer</td>\n",
       "      <td>Germany</td>\n",
       "      <td>...</td>\n",
       "      <td>90</td>\n",
       "      <td>89</td>\n",
       "    </tr>\n",
       "    <tr>\n",
       "      <th>...</th>\n",
       "      <td>...</td>\n",
       "      <td>...</td>\n",
       "      <td>...</td>\n",
       "      <td>...</td>\n",
       "      <td>...</td>\n",
       "    </tr>\n",
       "    <tr>\n",
       "      <th>17583</th>\n",
       "      <td>Adam Dunbar</td>\n",
       "      <td>Republic of Ireland</td>\n",
       "      <td>...</td>\n",
       "      <td>41</td>\n",
       "      <td>46</td>\n",
       "    </tr>\n",
       "    <tr>\n",
       "      <th>17584</th>\n",
       "      <td>Dylan McGoey</td>\n",
       "      <td>Republic of Ireland</td>\n",
       "      <td>...</td>\n",
       "      <td>46</td>\n",
       "      <td>46</td>\n",
       "    </tr>\n",
       "    <tr>\n",
       "      <th>17585</th>\n",
       "      <td>Tommy Ouldridge</td>\n",
       "      <td>England</td>\n",
       "      <td>...</td>\n",
       "      <td>14</td>\n",
       "      <td>7</td>\n",
       "    </tr>\n",
       "    <tr>\n",
       "      <th>17586</th>\n",
       "      <td>Mark Foden</td>\n",
       "      <td>Scotland</td>\n",
       "      <td>...</td>\n",
       "      <td>43</td>\n",
       "      <td>45</td>\n",
       "    </tr>\n",
       "    <tr>\n",
       "      <th>17587</th>\n",
       "      <td>Barry Richardson</td>\n",
       "      <td>England</td>\n",
       "      <td>...</td>\n",
       "      <td>51</td>\n",
       "      <td>33</td>\n",
       "    </tr>\n",
       "  </tbody>\n",
       "</table>\n",
       "<p>17587 rows × 53 columns</p>\n",
       "</div>"
      ],
      "text/plain": [
       "                    Name          Nationality  ... GK_Handling  GK_Reflexes\n",
       "0      Cristiano Ronaldo             Portugal  ...          11           11\n",
       "1           Lionel Messi            Argentina  ...          11            8\n",
       "2                 Neymar               Brazil  ...           9           11\n",
       "3            Luis Suárez              Uruguay  ...          25           37\n",
       "4           Manuel Neuer              Germany  ...          90           89\n",
       "...                  ...                  ...  ...         ...          ...\n",
       "17583        Adam Dunbar  Republic of Ireland  ...          41           46\n",
       "17584       Dylan McGoey  Republic of Ireland  ...          46           46\n",
       "17585    Tommy Ouldridge              England  ...          14            7\n",
       "17586         Mark Foden             Scotland  ...          43           45\n",
       "17587   Barry Richardson              England  ...          51           33\n",
       "\n",
       "[17587 rows x 53 columns]"
      ]
     },
     "execution_count": 64,
     "metadata": {},
     "output_type": "execute_result"
    }
   ],
   "source": [
    "# 获取非缺值数据\n",
    "player[player['Club_Position'].notnull()]"
   ]
  },
  {
   "cell_type": "code",
   "execution_count": 65,
   "metadata": {
    "pycharm": {
     "name": "#%%\n"
    }
   },
   "outputs": [],
   "source": [
    "# 非缺失值\n",
    "player = player[~player['Club_Position'].isna()]"
   ]
  },
  {
   "cell_type": "code",
   "execution_count": 66,
   "metadata": {
    "pycharm": {
     "name": "#%%\n"
    }
   },
   "outputs": [
    {
     "name": "stdout",
     "output_type": "stream",
     "text": [
      "<class 'pandas.core.frame.DataFrame'>\n",
      "Int64Index: 17587 entries, 0 to 17587\n",
      "Data columns (total 53 columns):\n",
      " #   Column              Non-Null Count  Dtype  \n",
      "---  ------              --------------  -----  \n",
      " 0   Name                17587 non-null  object \n",
      " 1   Nationality         17587 non-null  object \n",
      " 2   National_Position   1075 non-null   object \n",
      " 3   National_Kit        1075 non-null   float64\n",
      " 4   Club                17587 non-null  object \n",
      " 5   Club_Position       17587 non-null  object \n",
      " 6   Club_Kit            17587 non-null  float64\n",
      " 7   Club_Joining        17587 non-null  object \n",
      " 8   Contract_Expiry     17587 non-null  float64\n",
      " 9   Rating              17587 non-null  int64  \n",
      " 10  Height              17587 non-null  object \n",
      " 11  Weight              17587 non-null  object \n",
      " 12  Preffered_Foot      17587 non-null  object \n",
      " 13  Birth_Date          17587 non-null  object \n",
      " 14  Age                 17587 non-null  int64  \n",
      " 15  Preffered_Position  17587 non-null  object \n",
      " 16  Work_Rate           17587 non-null  object \n",
      " 17  Weak_foot           17587 non-null  int64  \n",
      " 18  Skill_Moves         17587 non-null  int64  \n",
      " 19  Ball_Control        17587 non-null  int64  \n",
      " 20  Dribbling           17587 non-null  int64  \n",
      " 21  Marking             17587 non-null  int64  \n",
      " 22  Sliding_Tackle      17587 non-null  int64  \n",
      " 23  Standing_Tackle     17587 non-null  int64  \n",
      " 24  Aggression          17587 non-null  int64  \n",
      " 25  Reactions           17587 non-null  int64  \n",
      " 26  Attacking_Position  17587 non-null  int64  \n",
      " 27  Interceptions       17587 non-null  int64  \n",
      " 28  Vision              17587 non-null  int64  \n",
      " 29  Composure           17587 non-null  int64  \n",
      " 30  Crossing            17587 non-null  int64  \n",
      " 31  Short_Pass          17587 non-null  int64  \n",
      " 32  Long_Pass           17587 non-null  int64  \n",
      " 33  Acceleration        17587 non-null  int64  \n",
      " 34  Speed               17587 non-null  int64  \n",
      " 35  Stamina             17587 non-null  int64  \n",
      " 36  Strength            17587 non-null  int64  \n",
      " 37  Balance             17587 non-null  int64  \n",
      " 38  Agility             17587 non-null  int64  \n",
      " 39  Jumping             17587 non-null  int64  \n",
      " 40  Heading             17587 non-null  int64  \n",
      " 41  Shot_Power          17587 non-null  int64  \n",
      " 42  Finishing           17587 non-null  int64  \n",
      " 43  Long_Shots          17587 non-null  int64  \n",
      " 44  Curve               17587 non-null  int64  \n",
      " 45  Freekick_Accuracy   17587 non-null  int64  \n",
      " 46  Penalties           17587 non-null  int64  \n",
      " 47  Volleys             17587 non-null  int64  \n",
      " 48  GK_Positioning      17587 non-null  int64  \n",
      " 49  GK_Diving           17587 non-null  int64  \n",
      " 50  GK_Kicking          17587 non-null  int64  \n",
      " 51  GK_Handling         17587 non-null  int64  \n",
      " 52  GK_Reflexes         17587 non-null  int64  \n",
      "dtypes: float64(3), int64(38), object(12)\n",
      "memory usage: 7.2+ MB\n"
     ]
    }
   ],
   "source": [
    "player.info()"
   ]
  },
  {
   "cell_type": "markdown",
   "metadata": {
    "pycharm": {
     "name": "#%% md\n"
    }
   },
   "source": [
    "异常值处理"
   ]
  },
  {
   "cell_type": "code",
   "execution_count": 67,
   "metadata": {
    "pycharm": {
     "name": "#%%\n"
    }
   },
   "outputs": [
    {
     "data": {
      "text/html": [
       "<div>\n",
       "<style scoped>\n",
       "    .dataframe tbody tr th:only-of-type {\n",
       "        vertical-align: middle;\n",
       "    }\n",
       "\n",
       "    .dataframe tbody tr th {\n",
       "        vertical-align: top;\n",
       "    }\n",
       "\n",
       "    .dataframe thead th {\n",
       "        text-align: right;\n",
       "    }\n",
       "</style>\n",
       "<table border=\"1\" class=\"dataframe\">\n",
       "  <thead>\n",
       "    <tr style=\"text-align: right;\">\n",
       "      <th></th>\n",
       "      <th>National_Kit</th>\n",
       "      <th>Club_Kit</th>\n",
       "      <th>...</th>\n",
       "      <th>GK_Handling</th>\n",
       "      <th>GK_Reflexes</th>\n",
       "    </tr>\n",
       "  </thead>\n",
       "  <tbody>\n",
       "    <tr>\n",
       "      <th>count</th>\n",
       "      <td>1075.000000</td>\n",
       "      <td>17587.000000</td>\n",
       "      <td>...</td>\n",
       "      <td>17587.000000</td>\n",
       "      <td>17587.000000</td>\n",
       "    </tr>\n",
       "    <tr>\n",
       "      <th>mean</th>\n",
       "      <td>12.219535</td>\n",
       "      <td>21.294536</td>\n",
       "      <td>...</td>\n",
       "      <td>16.560130</td>\n",
       "      <td>16.901348</td>\n",
       "    </tr>\n",
       "    <tr>\n",
       "      <th>std</th>\n",
       "      <td>6.933187</td>\n",
       "      <td>19.163741</td>\n",
       "      <td>...</td>\n",
       "      <td>16.967686</td>\n",
       "      <td>18.034984</td>\n",
       "    </tr>\n",
       "    <tr>\n",
       "      <th>min</th>\n",
       "      <td>1.000000</td>\n",
       "      <td>1.000000</td>\n",
       "      <td>...</td>\n",
       "      <td>1.000000</td>\n",
       "      <td>1.000000</td>\n",
       "    </tr>\n",
       "    <tr>\n",
       "      <th>25%</th>\n",
       "      <td>6.000000</td>\n",
       "      <td>9.000000</td>\n",
       "      <td>...</td>\n",
       "      <td>8.000000</td>\n",
       "      <td>8.000000</td>\n",
       "    </tr>\n",
       "    <tr>\n",
       "      <th>50%</th>\n",
       "      <td>12.000000</td>\n",
       "      <td>18.000000</td>\n",
       "      <td>...</td>\n",
       "      <td>11.000000</td>\n",
       "      <td>11.000000</td>\n",
       "    </tr>\n",
       "    <tr>\n",
       "      <th>75%</th>\n",
       "      <td>18.000000</td>\n",
       "      <td>27.000000</td>\n",
       "      <td>...</td>\n",
       "      <td>14.000000</td>\n",
       "      <td>14.000000</td>\n",
       "    </tr>\n",
       "    <tr>\n",
       "      <th>max</th>\n",
       "      <td>36.000000</td>\n",
       "      <td>99.000000</td>\n",
       "      <td>...</td>\n",
       "      <td>91.000000</td>\n",
       "      <td>90.000000</td>\n",
       "    </tr>\n",
       "  </tbody>\n",
       "</table>\n",
       "<p>8 rows × 41 columns</p>\n",
       "</div>"
      ],
      "text/plain": [
       "       National_Kit      Club_Kit  ...   GK_Handling   GK_Reflexes\n",
       "count   1075.000000  17587.000000  ...  17587.000000  17587.000000\n",
       "mean      12.219535     21.294536  ...     16.560130     16.901348\n",
       "std        6.933187     19.163741  ...     16.967686     18.034984\n",
       "min        1.000000      1.000000  ...      1.000000      1.000000\n",
       "25%        6.000000      9.000000  ...      8.000000      8.000000\n",
       "50%       12.000000     18.000000  ...     11.000000     11.000000\n",
       "75%       18.000000     27.000000  ...     14.000000     14.000000\n",
       "max       36.000000     99.000000  ...     91.000000     90.000000\n",
       "\n",
       "[8 rows x 41 columns]"
      ]
     },
     "execution_count": 67,
     "metadata": {},
     "output_type": "execute_result"
    }
   ],
   "source": [
    "# 调用describe()查看基本描述统计信息\n",
    "player.describe()"
   ]
  },
  {
   "cell_type": "code",
   "execution_count": 68,
   "metadata": {
    "pycharm": {
     "name": "#%%\n"
    }
   },
   "outputs": [
    {
     "data": {
      "text/plain": [
       "<AxesSubplot:>"
      ]
     },
     "execution_count": 68,
     "metadata": {},
     "output_type": "execute_result"
    },
    {
     "data": {
      "image/png": "[encoded data removed]",
      "text/plain": [
       "<Figure size 432x288 with 1 Axes>"
      ]
     },
     "metadata": {
      "needs_background": "light"
     },
     "output_type": "display_data"
    }
   ],
   "source": [
    "# 绘制箱图查看\n",
    "player.plot.box()"
   ]
  },
  {
   "cell_type": "code",
   "execution_count": 69,
   "metadata": {
    "pycharm": {
     "name": "#%%\n"
    }
   },
   "outputs": [
    {
     "data": {
      "text/plain": [
       "<AxesSubplot:>"
      ]
     },
     "execution_count": 69,
     "metadata": {},
     "output_type": "execute_result"
    },
    {
     "data": {
      "image/png": "[encoded data removed]",
      "text/plain": [
       "<Figure size 432x288 with 1 Axes>"
      ]
     },
     "metadata": {
      "needs_background": "light"
     },
     "output_type": "display_data"
    }
   ],
   "source": [
    "player.plot(kind='box')"
   ]
  },
  {
   "cell_type": "code",
   "execution_count": 70,
   "metadata": {
    "pycharm": {
     "name": "#%%\n"
    }
   },
   "outputs": [
    {
     "data": {
      "text/plain": [
       "<AxesSubplot:>"
      ]
     },
     "execution_count": 70,
     "metadata": {},
     "output_type": "execute_result"
    },
    {
     "data": {
      "image/png": "[encoded data removed]",
      "text/plain": [
       "<Figure size 864x576 with 1 Axes>"
      ]
     },
     "metadata": {
      "needs_background": "light"
     },
     "output_type": "display_data"
    }
   ],
   "source": [
    "# 对Rating评分  Marking盯人能力\n",
    "player[['Rating', 'Marking']].plot(kind='box', figsize=(12, 8))"
   ]
  },
  {
   "cell_type": "code",
   "execution_count": 71,
   "metadata": {
    "pycharm": {
     "name": "#%%\n"
    }
   },
   "outputs": [
    {
     "data": {
      "text/plain": [
       "count    17587.000000\n",
       "mean        66.165349\n",
       "std          7.082330\n",
       "min         45.000000\n",
       "25%         62.000000\n",
       "50%         66.000000\n",
       "75%         71.000000\n",
       "max         94.000000\n",
       "Name: Rating, dtype: float64"
      ]
     },
     "execution_count": 71,
     "metadata": {},
     "output_type": "execute_result"
    }
   ],
   "source": [
    "# 获取Rating描述统计信息\n",
    "player['Rating'].describe()"
   ]
  },
  {
   "cell_type": "markdown",
   "metadata": {
    "pycharm": {
     "name": "#%% md\n"
    }
   },
   "source": [
    "重复值处理"
   ]
  },
  {
   "cell_type": "code",
   "execution_count": 72,
   "metadata": {
    "pycharm": {
     "name": "#%%\n"
    }
   },
   "outputs": [
    {
     "data": {
      "text/plain": [
       "False"
      ]
     },
     "execution_count": 72,
     "metadata": {},
     "output_type": "execute_result"
    }
   ],
   "source": [
    "# 查看是否有重复值  duplicated()\n",
    "player.duplicated().any()"
   ]
  },
  {
   "cell_type": "code",
   "execution_count": 73,
   "metadata": {
    "pycharm": {
     "name": "#%%\n"
    }
   },
   "outputs": [
    {
     "data": {
      "text/html": [
       "<div>\n",
       "<style scoped>\n",
       "    .dataframe tbody tr th:only-of-type {\n",
       "        vertical-align: middle;\n",
       "    }\n",
       "\n",
       "    .dataframe tbody tr th {\n",
       "        vertical-align: top;\n",
       "    }\n",
       "\n",
       "    .dataframe thead th {\n",
       "        text-align: right;\n",
       "    }\n",
       "</style>\n",
       "<table border=\"1\" class=\"dataframe\">\n",
       "  <thead>\n",
       "    <tr style=\"text-align: right;\">\n",
       "      <th></th>\n",
       "      <th>Name</th>\n",
       "      <th>Nationality</th>\n",
       "      <th>...</th>\n",
       "      <th>GK_Handling</th>\n",
       "      <th>GK_Reflexes</th>\n",
       "    </tr>\n",
       "  </thead>\n",
       "  <tbody>\n",
       "  </tbody>\n",
       "</table>\n",
       "<p>0 rows × 53 columns</p>\n",
       "</div>"
      ],
      "text/plain": [
       "Empty DataFrame\n",
       "Columns: [Name, Nationality, National_Position, National_Kit, Club, Club_Position, Club_Kit, Club_Joining, Contract_Expiry, Rating, Height, Weight, Preffered_Foot, Birth_Date, Age, Preffered_Position, Work_Rate, Weak_foot, Skill_Moves, Ball_Control, Dribbling, Marking, Sliding_Tackle, Standing_Tackle, Aggression, Reactions, Attacking_Position, Interceptions, Vision, Composure, Crossing, Short_Pass, Long_Pass, Acceleration, Speed, Stamina, Strength, Balance, Agility, Jumping, Heading, Shot_Power, Finishing, Long_Shots, Curve, Freekick_Accuracy, Penalties, Volleys, GK_Positioning, GK_Diving, GK_Kicking, GK_Handling, GK_Reflexes]\n",
       "Index: []\n",
       "\n",
       "[0 rows x 53 columns]"
      ]
     },
     "execution_count": 73,
     "metadata": {},
     "output_type": "execute_result"
    }
   ],
   "source": [
    "# 如果有重复值\n",
    "# 获取重复值\n",
    "player[player.duplicated()]"
   ]
  },
  {
   "cell_type": "code",
   "execution_count": 74,
   "metadata": {
    "pycharm": {
     "name": "#%%\n"
    }
   },
   "outputs": [
    {
     "data": {
      "text/html": [
       "<div>\n",
       "<style scoped>\n",
       "    .dataframe tbody tr th:only-of-type {\n",
       "        vertical-align: middle;\n",
       "    }\n",
       "\n",
       "    .dataframe tbody tr th {\n",
       "        vertical-align: top;\n",
       "    }\n",
       "\n",
       "    .dataframe thead th {\n",
       "        text-align: right;\n",
       "    }\n",
       "</style>\n",
       "<table border=\"1\" class=\"dataframe\">\n",
       "  <thead>\n",
       "    <tr style=\"text-align: right;\">\n",
       "      <th></th>\n",
       "      <th>Name</th>\n",
       "      <th>Nationality</th>\n",
       "      <th>...</th>\n",
       "      <th>GK_Handling</th>\n",
       "      <th>GK_Reflexes</th>\n",
       "    </tr>\n",
       "  </thead>\n",
       "  <tbody>\n",
       "  </tbody>\n",
       "</table>\n",
       "<p>0 rows × 53 columns</p>\n",
       "</div>"
      ],
      "text/plain": [
       "Empty DataFrame\n",
       "Columns: [Name, Nationality, National_Position, National_Kit, Club, Club_Position, Club_Kit, Club_Joining, Contract_Expiry, Rating, Height, Weight, Preffered_Foot, Birth_Date, Age, Preffered_Position, Work_Rate, Weak_foot, Skill_Moves, Ball_Control, Dribbling, Marking, Sliding_Tackle, Standing_Tackle, Aggression, Reactions, Attacking_Position, Interceptions, Vision, Composure, Crossing, Short_Pass, Long_Pass, Acceleration, Speed, Stamina, Strength, Balance, Agility, Jumping, Heading, Shot_Power, Finishing, Long_Shots, Curve, Freekick_Accuracy, Penalties, Volleys, GK_Positioning, GK_Diving, GK_Kicking, GK_Handling, GK_Reflexes]\n",
       "Index: []\n",
       "\n",
       "[0 rows x 53 columns]"
      ]
     },
     "execution_count": 74,
     "metadata": {},
     "output_type": "execute_result"
    }
   ],
   "source": [
    "# duplicated（）方法中的参数\n",
    "# 获取不包括第一条重复值\n",
    "player[player.duplicated(keep='first')]"
   ]
  },
  {
   "cell_type": "code",
   "execution_count": 75,
   "metadata": {
    "pycharm": {
     "name": "#%%\n"
    }
   },
   "outputs": [
    {
     "data": {
      "text/html": [
       "<div>\n",
       "<style scoped>\n",
       "    .dataframe tbody tr th:only-of-type {\n",
       "        vertical-align: middle;\n",
       "    }\n",
       "\n",
       "    .dataframe tbody tr th {\n",
       "        vertical-align: top;\n",
       "    }\n",
       "\n",
       "    .dataframe thead th {\n",
       "        text-align: right;\n",
       "    }\n",
       "</style>\n",
       "<table border=\"1\" class=\"dataframe\">\n",
       "  <thead>\n",
       "    <tr style=\"text-align: right;\">\n",
       "      <th></th>\n",
       "      <th>Name</th>\n",
       "      <th>Nationality</th>\n",
       "      <th>...</th>\n",
       "      <th>GK_Handling</th>\n",
       "      <th>GK_Reflexes</th>\n",
       "    </tr>\n",
       "  </thead>\n",
       "  <tbody>\n",
       "  </tbody>\n",
       "</table>\n",
       "<p>0 rows × 53 columns</p>\n",
       "</div>"
      ],
      "text/plain": [
       "Empty DataFrame\n",
       "Columns: [Name, Nationality, National_Position, National_Kit, Club, Club_Position, Club_Kit, Club_Joining, Contract_Expiry, Rating, Height, Weight, Preffered_Foot, Birth_Date, Age, Preffered_Position, Work_Rate, Weak_foot, Skill_Moves, Ball_Control, Dribbling, Marking, Sliding_Tackle, Standing_Tackle, Aggression, Reactions, Attacking_Position, Interceptions, Vision, Composure, Crossing, Short_Pass, Long_Pass, Acceleration, Speed, Stamina, Strength, Balance, Agility, Jumping, Heading, Shot_Power, Finishing, Long_Shots, Curve, Freekick_Accuracy, Penalties, Volleys, GK_Positioning, GK_Diving, GK_Kicking, GK_Handling, GK_Reflexes]\n",
       "Index: []\n",
       "\n",
       "[0 rows x 53 columns]"
      ]
     },
     "execution_count": 75,
     "metadata": {},
     "output_type": "execute_result"
    }
   ],
   "source": [
    "# 获取不包括最后一条重复值\n",
    "player[player.duplicated(keep='last')]"
   ]
  },
  {
   "cell_type": "code",
   "execution_count": 76,
   "metadata": {
    "pycharm": {
     "name": "#%%\n"
    }
   },
   "outputs": [
    {
     "data": {
      "text/html": [
       "<div>\n",
       "<style scoped>\n",
       "    .dataframe tbody tr th:only-of-type {\n",
       "        vertical-align: middle;\n",
       "    }\n",
       "\n",
       "    .dataframe tbody tr th {\n",
       "        vertical-align: top;\n",
       "    }\n",
       "\n",
       "    .dataframe thead th {\n",
       "        text-align: right;\n",
       "    }\n",
       "</style>\n",
       "<table border=\"1\" class=\"dataframe\">\n",
       "  <thead>\n",
       "    <tr style=\"text-align: right;\">\n",
       "      <th></th>\n",
       "      <th>Name</th>\n",
       "      <th>Nationality</th>\n",
       "      <th>...</th>\n",
       "      <th>GK_Handling</th>\n",
       "      <th>GK_Reflexes</th>\n",
       "    </tr>\n",
       "  </thead>\n",
       "  <tbody>\n",
       "  </tbody>\n",
       "</table>\n",
       "<p>0 rows × 53 columns</p>\n",
       "</div>"
      ],
      "text/plain": [
       "Empty DataFrame\n",
       "Columns: [Name, Nationality, National_Position, National_Kit, Club, Club_Position, Club_Kit, Club_Joining, Contract_Expiry, Rating, Height, Weight, Preffered_Foot, Birth_Date, Age, Preffered_Position, Work_Rate, Weak_foot, Skill_Moves, Ball_Control, Dribbling, Marking, Sliding_Tackle, Standing_Tackle, Aggression, Reactions, Attacking_Position, Interceptions, Vision, Composure, Crossing, Short_Pass, Long_Pass, Acceleration, Speed, Stamina, Strength, Balance, Agility, Jumping, Heading, Shot_Power, Finishing, Long_Shots, Curve, Freekick_Accuracy, Penalties, Volleys, GK_Positioning, GK_Diving, GK_Kicking, GK_Handling, GK_Reflexes]\n",
       "Index: []\n",
       "\n",
       "[0 rows x 53 columns]"
      ]
     },
     "execution_count": 76,
     "metadata": {},
     "output_type": "execute_result"
    }
   ],
   "source": [
    "# 获取所有重复值\n",
    "player[player.duplicated(keep=False)]"
   ]
  },
  {
   "cell_type": "code",
   "execution_count": 77,
   "metadata": {
    "pycharm": {
     "name": "#%%\n"
    }
   },
   "outputs": [
    {
     "name": "stderr",
     "output_type": "stream",
     "text": [
      "C:\\Users\\17910\\AppData\\Local\\Temp\\ipykernel_39860\\2985678709.py:2: SettingWithCopyWarning: \n",
      "A value is trying to be set on a copy of a slice from a DataFrame\n",
      "\n",
      "See the caveats in the documentation: https://pandas.pydata.org/pandas-docs/stable/user_guide/indexing.html#returning-a-view-versus-a-copy\n",
      "  player.drop_duplicates(keep='first', inplace=True)\n"
     ]
    }
   ],
   "source": [
    "# 删除重复数据\n",
    "player.drop_duplicates(keep='first', inplace=True)"
   ]
  },
  {
   "cell_type": "code",
   "execution_count": 78,
   "metadata": {
    "pycharm": {
     "name": "#%%\n"
    }
   },
   "outputs": [
    {
     "data": {
      "text/html": [
       "<div>\n",
       "<style scoped>\n",
       "    .dataframe tbody tr th:only-of-type {\n",
       "        vertical-align: middle;\n",
       "    }\n",
       "\n",
       "    .dataframe tbody tr th {\n",
       "        vertical-align: top;\n",
       "    }\n",
       "\n",
       "    .dataframe thead th {\n",
       "        text-align: right;\n",
       "    }\n",
       "</style>\n",
       "<table border=\"1\" class=\"dataframe\">\n",
       "  <thead>\n",
       "    <tr style=\"text-align: right;\">\n",
       "      <th></th>\n",
       "      <th>Name</th>\n",
       "      <th>Nationality</th>\n",
       "      <th>...</th>\n",
       "      <th>GK_Handling</th>\n",
       "      <th>GK_Reflexes</th>\n",
       "    </tr>\n",
       "  </thead>\n",
       "  <tbody>\n",
       "    <tr>\n",
       "      <th>0</th>\n",
       "      <td>Cristiano Ronaldo</td>\n",
       "      <td>Portugal</td>\n",
       "      <td>...</td>\n",
       "      <td>11</td>\n",
       "      <td>11</td>\n",
       "    </tr>\n",
       "    <tr>\n",
       "      <th>1</th>\n",
       "      <td>Lionel Messi</td>\n",
       "      <td>Argentina</td>\n",
       "      <td>...</td>\n",
       "      <td>11</td>\n",
       "      <td>8</td>\n",
       "    </tr>\n",
       "    <tr>\n",
       "      <th>2</th>\n",
       "      <td>Neymar</td>\n",
       "      <td>Brazil</td>\n",
       "      <td>...</td>\n",
       "      <td>9</td>\n",
       "      <td>11</td>\n",
       "    </tr>\n",
       "    <tr>\n",
       "      <th>3</th>\n",
       "      <td>Luis Suárez</td>\n",
       "      <td>Uruguay</td>\n",
       "      <td>...</td>\n",
       "      <td>25</td>\n",
       "      <td>37</td>\n",
       "    </tr>\n",
       "    <tr>\n",
       "      <th>4</th>\n",
       "      <td>Manuel Neuer</td>\n",
       "      <td>Germany</td>\n",
       "      <td>...</td>\n",
       "      <td>90</td>\n",
       "      <td>89</td>\n",
       "    </tr>\n",
       "    <tr>\n",
       "      <th>...</th>\n",
       "      <td>...</td>\n",
       "      <td>...</td>\n",
       "      <td>...</td>\n",
       "      <td>...</td>\n",
       "      <td>...</td>\n",
       "    </tr>\n",
       "    <tr>\n",
       "      <th>17583</th>\n",
       "      <td>Adam Dunbar</td>\n",
       "      <td>Republic of Ireland</td>\n",
       "      <td>...</td>\n",
       "      <td>41</td>\n",
       "      <td>46</td>\n",
       "    </tr>\n",
       "    <tr>\n",
       "      <th>17584</th>\n",
       "      <td>Dylan McGoey</td>\n",
       "      <td>Republic of Ireland</td>\n",
       "      <td>...</td>\n",
       "      <td>46</td>\n",
       "      <td>46</td>\n",
       "    </tr>\n",
       "    <tr>\n",
       "      <th>17585</th>\n",
       "      <td>Tommy Ouldridge</td>\n",
       "      <td>England</td>\n",
       "      <td>...</td>\n",
       "      <td>14</td>\n",
       "      <td>7</td>\n",
       "    </tr>\n",
       "    <tr>\n",
       "      <th>17586</th>\n",
       "      <td>Mark Foden</td>\n",
       "      <td>Scotland</td>\n",
       "      <td>...</td>\n",
       "      <td>43</td>\n",
       "      <td>45</td>\n",
       "    </tr>\n",
       "    <tr>\n",
       "      <th>17587</th>\n",
       "      <td>Barry Richardson</td>\n",
       "      <td>England</td>\n",
       "      <td>...</td>\n",
       "      <td>51</td>\n",
       "      <td>33</td>\n",
       "    </tr>\n",
       "  </tbody>\n",
       "</table>\n",
       "<p>17587 rows × 53 columns</p>\n",
       "</div>"
      ],
      "text/plain": [
       "                    Name          Nationality  ... GK_Handling  GK_Reflexes\n",
       "0      Cristiano Ronaldo             Portugal  ...          11           11\n",
       "1           Lionel Messi            Argentina  ...          11            8\n",
       "2                 Neymar               Brazil  ...           9           11\n",
       "3            Luis Suárez              Uruguay  ...          25           37\n",
       "4           Manuel Neuer              Germany  ...          90           89\n",
       "...                  ...                  ...  ...         ...          ...\n",
       "17583        Adam Dunbar  Republic of Ireland  ...          41           46\n",
       "17584       Dylan McGoey  Republic of Ireland  ...          46           46\n",
       "17585    Tommy Ouldridge              England  ...          14            7\n",
       "17586         Mark Foden             Scotland  ...          43           45\n",
       "17587   Barry Richardson              England  ...          51           33\n",
       "\n",
       "[17587 rows x 53 columns]"
      ]
     },
     "execution_count": 78,
     "metadata": {},
     "output_type": "execute_result"
    }
   ],
   "source": [
    "# 过滤\n",
    "player[~player.duplicated()]"
   ]
  },
  {
   "cell_type": "code",
   "execution_count": 79,
   "metadata": {
    "pycharm": {
     "name": "#%%\n"
    }
   },
   "outputs": [
    {
     "data": {
      "text/plain": [
       "0        185 cm\n",
       "1        170 cm\n",
       "2        174 cm\n",
       "3        182 cm\n",
       "4        193 cm\n",
       "          ...  \n",
       "17583    183 cm\n",
       "17584    185 cm\n",
       "17585    173 cm\n",
       "17586    180 cm\n",
       "17587    185 cm\n",
       "Name: Height, Length: 17587, dtype: object"
      ]
     },
     "execution_count": 79,
     "metadata": {},
     "output_type": "execute_result"
    }
   ],
   "source": [
    "# 运动员身高和体重的分布\n",
    "player['Height']"
   ]
  },
  {
   "cell_type": "code",
   "execution_count": 80,
   "metadata": {
    "pycharm": {
     "name": "#%%\n"
    }
   },
   "outputs": [
    {
     "data": {
      "text/plain": [
       "0        80 kg\n",
       "1        72 kg\n",
       "2        68 kg\n",
       "3        85 kg\n",
       "4        92 kg\n",
       "         ...  \n",
       "17583    82 kg\n",
       "17584    80 kg\n",
       "17585    61 kg\n",
       "17586    80 kg\n",
       "17587    77 kg\n",
       "Name: Weight, Length: 17587, dtype: object"
      ]
     },
     "execution_count": 80,
     "metadata": {},
     "output_type": "execute_result"
    }
   ],
   "source": [
    "# 获取体重\n",
    "player['Weight']"
   ]
  },
  {
   "cell_type": "code",
   "execution_count": 81,
   "metadata": {
    "pycharm": {
     "name": "#%%\n"
    }
   },
   "outputs": [],
   "source": [
    "# 处理身高和体重数据\n",
    "# 普通方式\n",
    "# player['Height'] = player['Height'].str.replace('cm', '')\n",
    "# player['Weight'] = player['Weight'].str.replace('kg', '')\n",
    "# 转换类型\n",
    "# player['Height'] = player['Height'].astype(np.int)\n",
    "# player['Weight'] = player['Weight'].astype(np.int)"
   ]
  },
  {
   "cell_type": "code",
   "execution_count": 82,
   "metadata": {
    "pycharm": {
     "name": "#%%\n"
    }
   },
   "outputs": [
    {
     "data": {
      "text/plain": [
       "0        185 cm\n",
       "1        170 cm\n",
       "2        174 cm\n",
       "3        182 cm\n",
       "4        193 cm\n",
       "          ...  \n",
       "17583    183 cm\n",
       "17584    185 cm\n",
       "17585    173 cm\n",
       "17586    180 cm\n",
       "17587    185 cm\n",
       "Name: Height, Length: 17587, dtype: object"
      ]
     },
     "execution_count": 82,
     "metadata": {},
     "output_type": "execute_result"
    }
   ],
   "source": [
    "player['Weight']\n",
    "player['Height']"
   ]
  },
  {
   "cell_type": "code",
   "execution_count": 84,
   "metadata": {
    "pycharm": {
     "name": "#%%\n"
    }
   },
   "outputs": [
    {
     "name": "stderr",
     "output_type": "stream",
     "text": [
      "C:\\Users\\17910\\AppData\\Local\\Temp\\ipykernel_39860\\2691606763.py:4: SettingWithCopyWarning: \n",
      "A value is trying to be set on a copy of a slice from a DataFrame.\n",
      "Try using .loc[row_indexer,col_indexer] = value instead\n",
      "\n",
      "See the caveats in the documentation: https://pandas.pydata.org/pandas-docs/stable/user_guide/indexing.html#returning-a-view-versus-a-copy\n",
      "  player['Height'] = player['Height'].apply(handle)\n"
     ]
    }
   ],
   "source": [
    "# 使用apply（）函数\n",
    "def handle(m:str) -> int:\n",
    "    return int(m.replace('cm', ''))\n",
    "player['Height'] = player['Height'].apply(handle)"
   ]
  },
  {
   "cell_type": "code",
   "execution_count": 86,
   "metadata": {
    "pycharm": {
     "name": "#%%\n"
    }
   },
   "outputs": [
    {
     "name": "stderr",
     "output_type": "stream",
     "text": [
      "C:\\Users\\17910\\AppData\\Local\\Temp\\ipykernel_39860\\911974002.py:2: SettingWithCopyWarning: \n",
      "A value is trying to be set on a copy of a slice from a DataFrame.\n",
      "Try using .loc[row_indexer,col_indexer] = value instead\n",
      "\n",
      "See the caveats in the documentation: https://pandas.pydata.org/pandas-docs/stable/user_guide/indexing.html#returning-a-view-versus-a-copy\n",
      "  player['Weight'] = player['Weight'].apply(lambda m :int(m.replace('kg', '')))\n"
     ]
    }
   ],
   "source": [
    "# 匿名函数\n",
    "player['Weight'] = player['Weight'].apply(lambda m :int(m.replace('kg', '')))"
   ]
  },
  {
   "cell_type": "markdown",
   "metadata": {
    "pycharm": {
     "name": "#%% md\n"
    }
   },
   "source": [
    "查看身高体重的分布"
   ]
  },
  {
   "cell_type": "code",
   "execution_count": 87,
   "metadata": {
    "pycharm": {
     "name": "#%%\n"
    }
   },
   "outputs": [
    {
     "data": {
      "text/plain": [
       "count    17587.000000\n",
       "mean       181.105021\n",
       "std          6.675084\n",
       "min        155.000000\n",
       "25%        176.000000\n",
       "50%        181.000000\n",
       "75%        186.000000\n",
       "max        207.000000\n",
       "Name: Height, dtype: float64"
      ]
     },
     "execution_count": 87,
     "metadata": {},
     "output_type": "execute_result"
    }
   ],
   "source": [
    "# 调用describe（）查看\n",
    "player['Height'].describe()"
   ]
  },
  {
   "cell_type": "code",
   "execution_count": 88,
   "metadata": {
    "pycharm": {
     "name": "#%%\n"
    }
   },
   "outputs": [
    {
     "data": {
      "text/plain": [
       "count    17587.000000\n",
       "mean        75.253085\n",
       "std          6.898051\n",
       "min         48.000000\n",
       "25%         70.000000\n",
       "50%         75.000000\n",
       "75%         80.000000\n",
       "max        110.000000\n",
       "Name: Weight, dtype: float64"
      ]
     },
     "execution_count": 88,
     "metadata": {},
     "output_type": "execute_result"
    }
   ],
   "source": [
    "player['Weight'].describe()"
   ]
  },
  {
   "cell_type": "code",
   "execution_count": 89,
   "metadata": {
    "pycharm": {
     "name": "#%%\n"
    }
   },
   "outputs": [
    {
     "data": {
      "text/plain": [
       "(array([1.100e+01, 2.010e+02, 1.480e+03, 4.623e+03, 5.882e+03, 4.121e+03,\n",
       "        1.033e+03, 2.180e+02, 1.500e+01, 3.000e+00]),\n",
       " array([ 48. ,  54.2,  60.4,  66.6,  72.8,  79. ,  85.2,  91.4,  97.6,\n",
       "        103.8, 110. ]),\n",
       " <BarContainer object of 10 artists>)"
      ]
     },
     "execution_count": 89,
     "metadata": {},
     "output_type": "execute_result"
    },
    {
     "data": {
      "image/png": "[encoded data removed]",
      "text/plain": [
       "<Figure size 432x288 with 1 Axes>"
      ]
     },
     "metadata": {
      "needs_background": "light"
     },
     "output_type": "display_data"
    }
   ],
   "source": [
    "# 绘制直方图\n",
    "#1，使用matplotlib进行绘制\n",
    "plt.hist(player['Weight'])"
   ]
  },
  {
   "cell_type": "code",
   "execution_count": 90,
   "metadata": {
    "pycharm": {
     "name": "#%%\n"
    }
   },
   "outputs": [
    {
     "data": {
      "text/plain": [
       "<AxesSubplot:ylabel='Frequency'>"
      ]
     },
     "execution_count": 90,
     "metadata": {},
     "output_type": "execute_result"
    },
    {
     "data": {
      "image/png": "[encoded data removed]",
      "text/plain": [
       "<Figure size 432x288 with 1 Axes>"
      ]
     },
     "metadata": {
      "needs_background": "light"
     },
     "output_type": "display_data"
    }
   ],
   "source": [
    "# pandas绘制\n",
    "player['Height'].plot(kind='hist', bins=10)"
   ]
  },
  {
   "cell_type": "code",
   "execution_count": 91,
   "metadata": {
    "pycharm": {
     "name": "#%%\n"
    }
   },
   "outputs": [
    {
     "data": {
      "text/plain": [
       "<AxesSubplot:ylabel='Frequency'>"
      ]
     },
     "execution_count": 91,
     "metadata": {},
     "output_type": "execute_result"
    },
    {
     "data": {
      "image/png": "[encoded data removed]",
      "text/plain": [
       "<Figure size 432x288 with 1 Axes>"
      ]
     },
     "metadata": {
      "needs_background": "light"
     },
     "output_type": "display_data"
    }
   ],
   "source": [
    "# 评分\n",
    "player['Rating'].plot(kind='hist', bins=10)"
   ]
  },
  {
   "cell_type": "code",
   "execution_count": 92,
   "metadata": {
    "pycharm": {
     "name": "#%%\n"
    }
   },
   "outputs": [
    {
     "data": {
      "text/plain": [
       "<AxesSubplot:ylabel='Density'>"
      ]
     },
     "execution_count": 92,
     "metadata": {},
     "output_type": "execute_result"
    },
    {
     "data": {
      "image/png": "[encoded data removed]",
      "text/plain": [
       "<Figure size 432x288 with 1 Axes>"
      ]
     },
     "metadata": {
      "needs_background": "light"
     },
     "output_type": "display_data"
    }
   ],
   "source": [
    "# 绘制密度图\n",
    "player['Height'].plot(kind='kde')"
   ]
  },
  {
   "cell_type": "code",
   "execution_count": 101,
   "metadata": {
    "pycharm": {
     "name": "#%%\n"
    }
   },
   "outputs": [
    {
     "data": {
      "text/plain": [
       "0        Right\n",
       "1         Left\n",
       "2        Right\n",
       "3        Right\n",
       "4        Right\n",
       "         ...  \n",
       "17583    Right\n",
       "17584    Right\n",
       "17585    Right\n",
       "17586    Right\n",
       "17587    Right\n",
       "Name: Preffered_Foot, Length: 17587, dtype: object"
      ]
     },
     "execution_count": 101,
     "metadata": {},
     "output_type": "execute_result"
    }
   ],
   "source": [
    "# 足球运动员左右脚使用数量\n",
    "player['Preffered_Foot']"
   ]
  },
  {
   "cell_type": "code",
   "execution_count": 105,
   "metadata": {
    "pycharm": {
     "name": "#%%\n"
    }
   },
   "outputs": [],
   "source": [
    "# 进行分组\n",
    "group_foot = player.groupby('Preffered_Foot')\n",
    "result = group_foot['Preffered_Foot'].count()"
   ]
  },
  {
   "cell_type": "code",
   "execution_count": 106,
   "metadata": {
    "pycharm": {
     "name": "#%%\n"
    }
   },
   "outputs": [
    {
     "data": {
      "text/plain": [
       "<AxesSubplot:ylabel='Preffered_Foot'>"
      ]
     },
     "execution_count": 106,
     "metadata": {},
     "output_type": "execute_result"
    },
    {
     "data": {
      "image/png": "[encoded data removed]",
      "text/plain": [
       "<Figure size 720x576 with 1 Axes>"
      ]
     },
     "metadata": {},
     "output_type": "display_data"
    }
   ],
   "source": [
    "# 绘制饼图\n",
    "result.plot(kind='pie', autopct='%.2f', fontsize=20, figsize=(10, 8))"
   ]
  },
  {
   "cell_type": "code",
   "execution_count": 108,
   "metadata": {
    "pycharm": {
     "name": "#%%\n"
    }
   },
   "outputs": [],
   "source": [
    "# value_counts()\n",
    "result = player['Preffered_Foot'].value_counts()"
   ]
  },
  {
   "cell_type": "code",
   "execution_count": 111,
   "metadata": {
    "pycharm": {
     "name": "#%%\n"
    }
   },
   "outputs": [
    {
     "data": {
      "text/plain": [
       "<AxesSubplot:>"
      ]
     },
     "execution_count": 111,
     "metadata": {},
     "output_type": "execute_result"
    },
    {
     "data": {
      "image/png": "[encoded data removed]",
      "text/plain": [
       "<Figure size 720x576 with 1 Axes>"
      ]
     },
     "metadata": {},
     "output_type": "display_data"
    }
   ],
   "source": [
    "#绘制饼图\n",
    "# 去掉左侧名称\n",
    "result.name=''\n",
    "result.plot.pie(autopct='%.2f',figsize=(10, 8), fontsize=10)"
   ]
  },
  {
   "cell_type": "code",
   "execution_count": 112,
   "metadata": {
    "pycharm": {
     "name": "#%%\n"
    }
   },
   "outputs": [
    {
     "data": {
      "text/plain": [
       "<AxesSubplot:>"
      ]
     },
     "execution_count": 112,
     "metadata": {},
     "output_type": "execute_result"
    },
    {
     "data": {
      "image/png": "[encoded data removed]",
      "text/plain": [
       "<Figure size 432x288 with 1 Axes>"
      ]
     },
     "metadata": {
      "needs_background": "light"
     },
     "output_type": "display_data"
    }
   ],
   "source": [
    "# 绘制条形图\n",
    "result.plot(kind='bar')"
   ]
  },
  {
   "cell_type": "code",
   "execution_count": 113,
   "metadata": {
    "pycharm": {
     "name": "#%%\n"
    }
   },
   "outputs": [
    {
     "data": {
      "text/plain": [
       "<AxesSubplot:>"
      ]
     },
     "execution_count": 113,
     "metadata": {},
     "output_type": "execute_result"
    },
    {
     "data": {
      "image/png": "[encoded data removed]",
      "text/plain": [
       "<Figure size 432x288 with 1 Axes>"
      ]
     },
     "metadata": {
      "needs_background": "light"
     },
     "output_type": "display_data"
    }
   ],
   "source": [
    "result.plot(kind='barh')"
   ]
  },
  {
   "cell_type": "markdown",
   "metadata": {
    "pycharm": {
     "name": "#%% md\n"
    }
   },
   "source": [
    "俱乐部平均评分分析"
   ]
  },
  {
   "cell_type": "code",
   "execution_count": 114,
   "metadata": {
    "pycharm": {
     "name": "#%%\n"
    }
   },
   "outputs": [],
   "source": [
    "# 获取俱乐部平均评分\n",
    "#按俱乐部分组\n",
    "group = player.groupby('Club')"
   ]
  },
  {
   "cell_type": "code",
   "execution_count": 115,
   "metadata": {
    "pycharm": {
     "name": "#%%\n"
    }
   },
   "outputs": [
    {
     "data": {
      "text/plain": [
       "Club\n",
       "1. FC Heidenheim    65.720000\n",
       "1. FC Köln          71.846154\n",
       "1. FC Nürnberg      67.392857\n",
       "1. FSV Mainz 05     71.562500\n",
       "1860 München        68.142857\n",
       "                      ...    \n",
       "Águilas Doradas     63.250000\n",
       "Çaykur Rizespor     66.000000\n",
       "Örebro SK           61.913043\n",
       "Östersunds FK       62.739130\n",
       "Śląsk Wrocław       64.695652\n",
       "Name: Rating, Length: 633, dtype: float64"
      ]
     },
     "execution_count": 115,
     "metadata": {},
     "output_type": "execute_result"
    }
   ],
   "source": [
    "# 平均评分\n",
    "group['Rating'].mean()"
   ]
  },
  {
   "cell_type": "code",
   "execution_count": 118,
   "metadata": {
    "pycharm": {
     "name": "#%%\n"
    }
   },
   "outputs": [
    {
     "data": {
      "text/plain": [
       "Club\n",
       "Juventus           79.785714\n",
       "FC Bayern          79.115385\n",
       "Real Madrid        78.757576\n",
       "FC Barcelona       78.090909\n",
       "Napoli             77.769231\n",
       "Roma               77.760000\n",
       "Sevilla FC         76.964286\n",
       "PSG                76.709677\n",
       "Atlético Madrid    76.548387\n",
       "Arsenal            76.333333\n",
       "Name: Rating, dtype: float64"
      ]
     },
     "execution_count": 118,
     "metadata": {},
     "output_type": "execute_result"
    }
   ],
   "source": [
    "# 俱乐部平均评分前十\n",
    "group['Rating'].mean().sort_values(ascending=False).head(10)"
   ]
  },
  {
   "cell_type": "code",
   "execution_count": 119,
   "metadata": {
    "pycharm": {
     "name": "#%%\n"
    }
   },
   "outputs": [
    {
     "data": {
      "text/plain": [
       "<AxesSubplot:xlabel='Club'>"
      ]
     },
     "execution_count": 119,
     "metadata": {},
     "output_type": "execute_result"
    },
    {
     "data": {
      "image/png": "[encoded data removed]",
      "text/plain": [
       "<Figure size 432x288 with 1 Axes>"
      ]
     },
     "metadata": {
      "needs_background": "light"
     },
     "output_type": "display_data"
    }
   ],
   "source": [
    "# 绘制条形图\n",
    "group['Rating'].mean().sort_values(ascending=False).head(10).plot(kind='bar')"
   ]
  },
  {
   "cell_type": "code",
   "execution_count": 126,
   "metadata": {
    "pycharm": {
     "name": "#%%\n"
    }
   },
   "outputs": [
    {
     "data": {
      "text/plain": [
       "<AxesSubplot:xlabel='Club'>"
      ]
     },
     "execution_count": 126,
     "metadata": {},
     "output_type": "execute_result"
    },
    {
     "data": {
      "image/png": "[encoded data removed]",
      "text/plain": [
       "<Figure size 432x288 with 1 Axes>"
      ]
     },
     "metadata": {
      "needs_background": "light"
     },
     "output_type": "display_data"
    }
   ],
   "source": [
    "# 获取前十且人数大于20人\n",
    "group = player.groupby('Club')\n",
    "group['Rating'].agg(['mean', 'count']).sort_values('mean', ascending=False).head(10).plot(kind='bar')"
   ]
  },
  {
   "cell_type": "code",
   "execution_count": 135,
   "metadata": {
    "pycharm": {
     "name": "#%%\n"
    }
   },
   "outputs": [
    {
     "data": {
      "text/plain": [
       "<AxesSubplot:xlabel='Club'>"
      ]
     },
     "execution_count": 135,
     "metadata": {},
     "output_type": "execute_result"
    },
    {
     "data": {
      "image/png": "[encoded data removed]",
      "text/plain": [
       "<Figure size 432x288 with 1 Axes>"
      ]
     },
     "metadata": {
      "needs_background": "light"
     },
     "output_type": "display_data"
    }
   ],
   "source": [
    "# 获取前十且人数大于20人\n",
    "result = group['Rating'].agg(['mean', 'count']).sort_values('mean', ascending=False)\n",
    "result[result['count']>30].head(10).plot(kind='bar')"
   ]
  },
  {
   "cell_type": "code",
   "execution_count": 136,
   "metadata": {
    "pycharm": {
     "name": "#%%\n"
    }
   },
   "outputs": [],
   "source": [
    "# 获取国家前十且人数大于20人\n",
    "group = player.groupby('Nationality')"
   ]
  },
  {
   "cell_type": "code",
   "execution_count": 138,
   "metadata": {
    "pycharm": {
     "name": "#%%\n"
    }
   },
   "outputs": [],
   "source": [
    "result = group['Rating'].agg(['mean', 'count']).sort_values('mean', ascending=False)"
   ]
  },
  {
   "cell_type": "code",
   "execution_count": 141,
   "metadata": {
    "pycharm": {
     "name": "#%%\n"
    }
   },
   "outputs": [
    {
     "data": {
      "text/plain": [
       "<AxesSubplot:xlabel='Nationality'>"
      ]
     },
     "execution_count": 141,
     "metadata": {},
     "output_type": "execute_result"
    },
    {
     "data": {
      "image/png": "[encoded data removed]",
      "text/plain": [
       "<Figure size 432x288 with 1 Axes>"
      ]
     },
     "metadata": {
      "needs_background": "light"
     },
     "output_type": "display_data"
    }
   ],
   "source": [
    "# 人数大于20\n",
    "result[result['count']>20].head(10).plot(kind='bar')"
   ]
  },
  {
   "cell_type": "markdown",
   "metadata": {
    "pycharm": {
     "name": "#%% md\n"
    }
   },
   "source": [
    "足球运动员人数是否与出生日期有关"
   ]
  },
  {
   "cell_type": "code",
   "execution_count": 143,
   "metadata": {
    "pycharm": {
     "name": "#%%\n"
    }
   },
   "outputs": [
    {
     "data": {
      "text/plain": [
       "0        02/05/1985\n",
       "1        06/24/1987\n",
       "2        02/05/1992\n",
       "3        01/24/1987\n",
       "4        03/27/1986\n",
       "            ...    \n",
       "17583    01/04/1998\n",
       "17584    11/08/1997\n",
       "17585    11/26/1998\n",
       "17586    03/19/1996\n",
       "17587    08/05/1969\n",
       "Name: Birth_Date, Length: 17587, dtype: object"
      ]
     },
     "execution_count": 143,
     "metadata": {},
     "output_type": "execute_result"
    }
   ],
   "source": [
    "# 获取足球运动员出生日期  月/日/年\n",
    "player['Birth_Date']"
   ]
  },
  {
   "cell_type": "code",
   "execution_count": 150,
   "metadata": {
    "pycharm": {
     "name": "#%%\n"
    }
   },
   "outputs": [
    {
     "data": {
      "text/html": [
       "<div>\n",
       "<style scoped>\n",
       "    .dataframe tbody tr th:only-of-type {\n",
       "        vertical-align: middle;\n",
       "    }\n",
       "\n",
       "    .dataframe tbody tr th {\n",
       "        vertical-align: top;\n",
       "    }\n",
       "\n",
       "    .dataframe thead th {\n",
       "        text-align: right;\n",
       "    }\n",
       "</style>\n",
       "<table border=\"1\" class=\"dataframe\">\n",
       "  <thead>\n",
       "    <tr style=\"text-align: right;\">\n",
       "      <th></th>\n",
       "      <th>0</th>\n",
       "      <th>1</th>\n",
       "      <th>2</th>\n",
       "    </tr>\n",
       "  </thead>\n",
       "  <tbody>\n",
       "    <tr>\n",
       "      <th>0</th>\n",
       "      <td>02</td>\n",
       "      <td>05</td>\n",
       "      <td>1985</td>\n",
       "    </tr>\n",
       "    <tr>\n",
       "      <th>1</th>\n",
       "      <td>06</td>\n",
       "      <td>24</td>\n",
       "      <td>1987</td>\n",
       "    </tr>\n",
       "    <tr>\n",
       "      <th>2</th>\n",
       "      <td>02</td>\n",
       "      <td>05</td>\n",
       "      <td>1992</td>\n",
       "    </tr>\n",
       "    <tr>\n",
       "      <th>3</th>\n",
       "      <td>01</td>\n",
       "      <td>24</td>\n",
       "      <td>1987</td>\n",
       "    </tr>\n",
       "    <tr>\n",
       "      <th>4</th>\n",
       "      <td>03</td>\n",
       "      <td>27</td>\n",
       "      <td>1986</td>\n",
       "    </tr>\n",
       "    <tr>\n",
       "      <th>...</th>\n",
       "      <td>...</td>\n",
       "      <td>...</td>\n",
       "      <td>...</td>\n",
       "    </tr>\n",
       "    <tr>\n",
       "      <th>17583</th>\n",
       "      <td>01</td>\n",
       "      <td>04</td>\n",
       "      <td>1998</td>\n",
       "    </tr>\n",
       "    <tr>\n",
       "      <th>17584</th>\n",
       "      <td>11</td>\n",
       "      <td>08</td>\n",
       "      <td>1997</td>\n",
       "    </tr>\n",
       "    <tr>\n",
       "      <th>17585</th>\n",
       "      <td>11</td>\n",
       "      <td>26</td>\n",
       "      <td>1998</td>\n",
       "    </tr>\n",
       "    <tr>\n",
       "      <th>17586</th>\n",
       "      <td>03</td>\n",
       "      <td>19</td>\n",
       "      <td>1996</td>\n",
       "    </tr>\n",
       "    <tr>\n",
       "      <th>17587</th>\n",
       "      <td>08</td>\n",
       "      <td>05</td>\n",
       "      <td>1969</td>\n",
       "    </tr>\n",
       "  </tbody>\n",
       "</table>\n",
       "<p>17587 rows × 3 columns</p>\n",
       "</div>"
      ],
      "text/plain": [
       "        0   1     2\n",
       "0      02  05  1985\n",
       "1      06  24  1987\n",
       "2      02  05  1992\n",
       "3      01  24  1987\n",
       "4      03  27  1986\n",
       "...    ..  ..   ...\n",
       "17583  01  04  1998\n",
       "17584  11  08  1997\n",
       "17585  11  26  1998\n",
       "17586  03  19  1996\n",
       "17587  08  05  1969\n",
       "\n",
       "[17587 rows x 3 columns]"
      ]
     },
     "execution_count": 150,
     "metadata": {},
     "output_type": "execute_result"
    }
   ],
   "source": [
    "# 切分数据集\n",
    "data = player['Birth_Date'].str.split('/', expand=True)\n",
    "data"
   ]
  },
  {
   "cell_type": "code",
   "execution_count": 151,
   "metadata": {
    "pycharm": {
     "name": "#%%\n"
    }
   },
   "outputs": [
    {
     "data": {
      "text/plain": [
       "02    2124\n",
       "01    1892\n",
       "03    1699\n",
       "04    1540\n",
       "05    1494\n",
       "07    1379\n",
       "09    1371\n",
       "06    1367\n",
       "08    1335\n",
       "10    1179\n",
       "11    1125\n",
       "12    1082\n",
       "Name: 0, dtype: int64"
      ]
     },
     "execution_count": 151,
     "metadata": {},
     "output_type": "execute_result"
    }
   ],
   "source": [
    "# 获取月份\n",
    "data[0].value_counts()"
   ]
  },
  {
   "cell_type": "code",
   "execution_count": 152,
   "metadata": {
    "pycharm": {
     "name": "#%%\n"
    }
   },
   "outputs": [
    {
     "data": {
      "text/plain": [
       "<AxesSubplot:>"
      ]
     },
     "execution_count": 152,
     "metadata": {},
     "output_type": "execute_result"
    },
    {
     "data": {
      "image/png": "[encoded data removed]",
      "text/plain": [
       "<Figure size 432x288 with 1 Axes>"
      ]
     },
     "metadata": {
      "needs_background": "light"
     },
     "output_type": "display_data"
    }
   ],
   "source": [
    "# 绘制条形图\n",
    "data[0].value_counts().plot(kind='bar')"
   ]
  },
  {
   "cell_type": "code",
   "execution_count": 154,
   "metadata": {
    "pycharm": {
     "name": "#%%\n"
    }
   },
   "outputs": [
    {
     "data": {
      "text/plain": [
       "<AxesSubplot:>"
      ]
     },
     "execution_count": 154,
     "metadata": {},
     "output_type": "execute_result"
    },
    {
     "data": {
      "image/png": "[encoded data removed]",
      "text/plain": [
       "<Figure size 432x288 with 1 Axes>"
      ]
     },
     "metadata": {
      "needs_background": "light"
     },
     "output_type": "display_data"
    }
   ],
   "source": [
    "# 获取日\n",
    "data[1].value_counts().plot(kind='bar')"
   ]
  },
  {
   "cell_type": "code",
   "execution_count": 155,
   "metadata": {
    "pycharm": {
     "name": "#%%\n"
    }
   },
   "outputs": [
    {
     "data": {
      "text/plain": [
       "<AxesSubplot:>"
      ]
     },
     "execution_count": 155,
     "metadata": {},
     "output_type": "execute_result"
    },
    {
     "data": {
      "image/png": "[encoded data removed]",
      "text/plain": [
       "<Figure size 432x288 with 1 Axes>"
      ]
     },
     "metadata": {
      "needs_background": "light"
     },
     "output_type": "display_data"
    }
   ],
   "source": [
    "# 获取年\n",
    "data[2].value_counts().plot(kind='bar')"
   ]
  },
  {
   "cell_type": "code",
   "execution_count": 158,
   "metadata": {
    "pycharm": {
     "name": "#%%\n"
    }
   },
   "outputs": [
    {
     "data": {
      "text/html": [
       "<div>\n",
       "<style scoped>\n",
       "    .dataframe tbody tr th:only-of-type {\n",
       "        vertical-align: middle;\n",
       "    }\n",
       "\n",
       "    .dataframe tbody tr th {\n",
       "        vertical-align: top;\n",
       "    }\n",
       "\n",
       "    .dataframe thead th {\n",
       "        text-align: right;\n",
       "    }\n",
       "</style>\n",
       "<table border=\"1\" class=\"dataframe\">\n",
       "  <thead>\n",
       "    <tr style=\"text-align: right;\">\n",
       "      <th></th>\n",
       "      <th>0</th>\n",
       "      <th>1</th>\n",
       "      <th>2</th>\n",
       "    </tr>\n",
       "  </thead>\n",
       "  <tbody>\n",
       "    <tr>\n",
       "      <th>0</th>\n",
       "      <td>02</td>\n",
       "      <td>05</td>\n",
       "      <td>1985</td>\n",
       "    </tr>\n",
       "    <tr>\n",
       "      <th>1</th>\n",
       "      <td>06</td>\n",
       "      <td>24</td>\n",
       "      <td>1987</td>\n",
       "    </tr>\n",
       "    <tr>\n",
       "      <th>2</th>\n",
       "      <td>02</td>\n",
       "      <td>05</td>\n",
       "      <td>1992</td>\n",
       "    </tr>\n",
       "    <tr>\n",
       "      <th>3</th>\n",
       "      <td>01</td>\n",
       "      <td>24</td>\n",
       "      <td>1987</td>\n",
       "    </tr>\n",
       "    <tr>\n",
       "      <th>4</th>\n",
       "      <td>03</td>\n",
       "      <td>27</td>\n",
       "      <td>1986</td>\n",
       "    </tr>\n",
       "    <tr>\n",
       "      <th>...</th>\n",
       "      <td>...</td>\n",
       "      <td>...</td>\n",
       "      <td>...</td>\n",
       "    </tr>\n",
       "    <tr>\n",
       "      <th>386</th>\n",
       "      <td>03</td>\n",
       "      <td>10</td>\n",
       "      <td>1981</td>\n",
       "    </tr>\n",
       "    <tr>\n",
       "      <th>387</th>\n",
       "      <td>05</td>\n",
       "      <td>02</td>\n",
       "      <td>1981</td>\n",
       "    </tr>\n",
       "    <tr>\n",
       "      <th>390</th>\n",
       "      <td>09</td>\n",
       "      <td>08</td>\n",
       "      <td>1995</td>\n",
       "    </tr>\n",
       "    <tr>\n",
       "      <th>407</th>\n",
       "      <td>01</td>\n",
       "      <td>11</td>\n",
       "      <td>1987</td>\n",
       "    </tr>\n",
       "    <tr>\n",
       "      <th>520</th>\n",
       "      <td>08</td>\n",
       "      <td>01</td>\n",
       "      <td>1984</td>\n",
       "    </tr>\n",
       "  </tbody>\n",
       "</table>\n",
       "<p>389 rows × 3 columns</p>\n",
       "</div>"
      ],
      "text/plain": [
       "      0   1     2\n",
       "0    02  05  1985\n",
       "1    06  24  1987\n",
       "2    02  05  1992\n",
       "3    01  24  1987\n",
       "4    03  27  1986\n",
       "..   ..  ..   ...\n",
       "386  03  10  1981\n",
       "387  05  02  1981\n",
       "390  09  08  1995\n",
       "407  01  11  1987\n",
       "520  08  01  1984\n",
       "\n",
       "[389 rows x 3 columns]"
      ]
     },
     "execution_count": 158,
     "metadata": {},
     "output_type": "execute_result"
    }
   ],
   "source": [
    "# 评分大于等于80分的球员数据\n",
    "result = player[player['Rating']>80]\n",
    "# 获取出生日期\n",
    "result['Birth_Date'].str.split('/', expand=True)"
   ]
  },
  {
   "cell_type": "code",
   "execution_count": 159,
   "metadata": {
    "pycharm": {
     "name": "#%%\n"
    }
   },
   "outputs": [
    {
     "data": {
      "text/plain": [
       "<AxesSubplot:>"
      ]
     },
     "execution_count": 159,
     "metadata": {},
     "output_type": "execute_result"
    },
    {
     "data": {
      "image/png": "[encoded data removed]",
      "text/plain": [
       "<Figure size 432x288 with 1 Axes>"
      ]
     },
     "metadata": {
      "needs_background": "light"
     },
     "output_type": "display_data"
    }
   ],
   "source": [
    "data[0].value_counts().plot(kind='bar')"
   ]
  },
  {
   "cell_type": "code",
   "execution_count": 160,
   "metadata": {
    "pycharm": {
     "name": "#%%\n"
    }
   },
   "outputs": [
    {
     "data": {
      "text/plain": [
       "<AxesSubplot:>"
      ]
     },
     "execution_count": 160,
     "metadata": {},
     "output_type": "execute_result"
    },
    {
     "data": {
      "image/png": "[encoded data removed]",
      "text/plain": [
       "<Figure size 432x288 with 1 Axes>"
      ]
     },
     "metadata": {
      "needs_background": "light"
     },
     "output_type": "display_data"
    }
   ],
   "source": [
    "data[1].value_counts().plot(kind='bar')"
   ]
  },
  {
   "cell_type": "code",
   "execution_count": 161,
   "metadata": {
    "pycharm": {
     "name": "#%%\n"
    }
   },
   "outputs": [
    {
     "data": {
      "text/plain": [
       "<AxesSubplot:>"
      ]
     },
     "execution_count": 161,
     "metadata": {},
     "output_type": "execute_result"
    },
    {
     "data": {
      "image/png": "[encoded data removed]",
      "text/plain": [
       "<Figure size 432x288 with 1 Axes>"
      ]
     },
     "metadata": {
      "needs_background": "light"
     },
     "output_type": "display_data"
    }
   ],
   "source": [
    "data[2].value_counts().plot(kind='bar')"
   ]
  },
  {
   "cell_type": "markdown",
   "metadata": {
    "pycharm": {
     "name": "#%% md\n"
    }
   },
   "source": [
    "相关性分析"
   ]
  },
  {
   "cell_type": "code",
   "execution_count": 162,
   "metadata": {
    "pycharm": {
     "name": "#%%\n"
    }
   },
   "outputs": [
    {
     "data": {
      "text/plain": [
       "<AxesSubplot:xlabel='Height', ylabel='Weight'>"
      ]
     },
     "execution_count": 162,
     "metadata": {},
     "output_type": "execute_result"
    },
    {
     "data": {
      "image/png": "[encoded data removed]",
      "text/plain": [
       "<Figure size 432x288 with 1 Axes>"
      ]
     },
     "metadata": {
      "needs_background": "light"
     },
     "output_type": "display_data"
    }
   ],
   "source": [
    "#绘制散点图 分析身高和体重\n",
    "player.plot(kind='scatter', x='Height', y='Weight')"
   ]
  },
  {
   "cell_type": "code",
   "execution_count": 163,
   "metadata": {
    "pycharm": {
     "name": "#%%\n"
    }
   },
   "outputs": [
    {
     "data": {
      "text/plain": [
       "<AxesSubplot:xlabel='Height', ylabel='Rating'>"
      ]
     },
     "execution_count": 163,
     "metadata": {},
     "output_type": "execute_result"
    },
    {
     "data": {
      "image/png": "[encoded data removed]",
      "text/plain": [
       "<Figure size 432x288 with 1 Axes>"
      ]
     },
     "metadata": {
      "needs_background": "light"
     },
     "output_type": "display_data"
    }
   ],
   "source": [
    "# 分析身高和评分\n",
    "player.plot(kind='scatter', x='Height', y='Rating')"
   ]
  },
  {
   "cell_type": "code",
   "execution_count": 164,
   "metadata": {
    "pycharm": {
     "name": "#%%\n"
    }
   },
   "outputs": [
    {
     "data": {
      "text/plain": [
       "1.0"
      ]
     },
     "execution_count": 164,
     "metadata": {},
     "output_type": "execute_result"
    }
   ],
   "source": [
    "# 计算相关系数\n",
    "player['Height'].corr(player['Height'])"
   ]
  },
  {
   "cell_type": "code",
   "execution_count": 165,
   "metadata": {
    "pycharm": {
     "name": "#%%\n"
    }
   },
   "outputs": [
    {
     "data": {
      "text/plain": [
       "0.7582075774488358"
      ]
     },
     "execution_count": 165,
     "metadata": {},
     "output_type": "execute_result"
    }
   ],
   "source": [
    "# 计算身高和体重相关系数\n",
    "player['Height'].corr(player['Weight'])"
   ]
  },
  {
   "cell_type": "markdown",
   "metadata": {
    "pycharm": {
     "name": "#%% md\n"
    }
   },
   "source": [
    "与评分相关性强的指标"
   ]
  },
  {
   "cell_type": "code",
   "execution_count": 166,
   "metadata": {
    "pycharm": {
     "name": "#%%\n"
    }
   },
   "outputs": [
    {
     "data": {
      "text/html": [
       "<div>\n",
       "<style scoped>\n",
       "    .dataframe tbody tr th:only-of-type {\n",
       "        vertical-align: middle;\n",
       "    }\n",
       "\n",
       "    .dataframe tbody tr th {\n",
       "        vertical-align: top;\n",
       "    }\n",
       "\n",
       "    .dataframe thead th {\n",
       "        text-align: right;\n",
       "    }\n",
       "</style>\n",
       "<table border=\"1\" class=\"dataframe\">\n",
       "  <thead>\n",
       "    <tr style=\"text-align: right;\">\n",
       "      <th></th>\n",
       "      <th>National_Kit</th>\n",
       "      <th>Club_Kit</th>\n",
       "      <th>...</th>\n",
       "      <th>GK_Handling</th>\n",
       "      <th>GK_Reflexes</th>\n",
       "    </tr>\n",
       "  </thead>\n",
       "  <tbody>\n",
       "    <tr>\n",
       "      <th>National_Kit</th>\n",
       "      <td>1.000000</td>\n",
       "      <td>0.055408</td>\n",
       "      <td>...</td>\n",
       "      <td>-0.024611</td>\n",
       "      <td>-0.018816</td>\n",
       "    </tr>\n",
       "    <tr>\n",
       "      <th>Club_Kit</th>\n",
       "      <td>0.055408</td>\n",
       "      <td>1.000000</td>\n",
       "      <td>...</td>\n",
       "      <td>0.006725</td>\n",
       "      <td>0.007480</td>\n",
       "    </tr>\n",
       "    <tr>\n",
       "      <th>Contract_Expiry</th>\n",
       "      <td>-0.027211</td>\n",
       "      <td>0.077060</td>\n",
       "      <td>...</td>\n",
       "      <td>-0.023064</td>\n",
       "      <td>-0.024923</td>\n",
       "    </tr>\n",
       "    <tr>\n",
       "      <th>Rating</th>\n",
       "      <td>-0.084289</td>\n",
       "      <td>-0.172710</td>\n",
       "      <td>...</td>\n",
       "      <td>-0.021343</td>\n",
       "      <td>-0.022978</td>\n",
       "    </tr>\n",
       "    <tr>\n",
       "      <th>Height</th>\n",
       "      <td>-0.101229</td>\n",
       "      <td>-0.028711</td>\n",
       "      <td>...</td>\n",
       "      <td>0.359746</td>\n",
       "      <td>0.360260</td>\n",
       "    </tr>\n",
       "    <tr>\n",
       "      <th>Weight</th>\n",
       "      <td>-0.093795</td>\n",
       "      <td>-0.072341</td>\n",
       "      <td>...</td>\n",
       "      <td>0.341829</td>\n",
       "      <td>0.341785</td>\n",
       "    </tr>\n",
       "    <tr>\n",
       "      <th>Age</th>\n",
       "      <td>-0.103583</td>\n",
       "      <td>-0.198230</td>\n",
       "      <td>...</td>\n",
       "      <td>0.113216</td>\n",
       "      <td>0.106979</td>\n",
       "    </tr>\n",
       "    <tr>\n",
       "      <th>Weak_foot</th>\n",
       "      <td>0.027268</td>\n",
       "      <td>-0.037234</td>\n",
       "      <td>...</td>\n",
       "      <td>-0.233080</td>\n",
       "      <td>-0.235275</td>\n",
       "    </tr>\n",
       "    <tr>\n",
       "      <th>Skill_Moves</th>\n",
       "      <td>0.105903</td>\n",
       "      <td>0.006378</td>\n",
       "      <td>...</td>\n",
       "      <td>-0.606713</td>\n",
       "      <td>-0.609282</td>\n",
       "    </tr>\n",
       "    <tr>\n",
       "      <th>Ball_Control</th>\n",
       "      <td>0.046644</td>\n",
       "      <td>-0.071067</td>\n",
       "      <td>...</td>\n",
       "      <td>-0.775632</td>\n",
       "      <td>-0.777668</td>\n",
       "    </tr>\n",
       "    <tr>\n",
       "      <th>Dribbling</th>\n",
       "      <td>0.093836</td>\n",
       "      <td>-0.028584</td>\n",
       "      <td>...</td>\n",
       "      <td>-0.740616</td>\n",
       "      <td>-0.742065</td>\n",
       "    </tr>\n",
       "    <tr>\n",
       "      <th>Marking</th>\n",
       "      <td>-0.162083</td>\n",
       "      <td>-0.105522</td>\n",
       "      <td>...</td>\n",
       "      <td>-0.496431</td>\n",
       "      <td>-0.497013</td>\n",
       "    </tr>\n",
       "    <tr>\n",
       "      <th>Sliding_Tackle</th>\n",
       "      <td>-0.152251</td>\n",
       "      <td>-0.094920</td>\n",
       "      <td>...</td>\n",
       "      <td>-0.501429</td>\n",
       "      <td>-0.501738</td>\n",
       "    </tr>\n",
       "    <tr>\n",
       "      <th>Standing_Tackle</th>\n",
       "      <td>-0.148329</td>\n",
       "      <td>-0.104446</td>\n",
       "      <td>...</td>\n",
       "      <td>-0.523648</td>\n",
       "      <td>-0.524598</td>\n",
       "    </tr>\n",
       "    <tr>\n",
       "      <th>Aggression</th>\n",
       "      <td>-0.073288</td>\n",
       "      <td>-0.121709</td>\n",
       "      <td>...</td>\n",
       "      <td>-0.564734</td>\n",
       "      <td>-0.566184</td>\n",
       "    </tr>\n",
       "    <tr>\n",
       "      <th>Reactions</th>\n",
       "      <td>-0.058696</td>\n",
       "      <td>-0.148887</td>\n",
       "      <td>...</td>\n",
       "      <td>-0.044558</td>\n",
       "      <td>-0.045050</td>\n",
       "    </tr>\n",
       "    <tr>\n",
       "      <th>Attacking_Position</th>\n",
       "      <td>0.124641</td>\n",
       "      <td>-0.031746</td>\n",
       "      <td>...</td>\n",
       "      <td>-0.664273</td>\n",
       "      <td>-0.666512</td>\n",
       "    </tr>\n",
       "    <tr>\n",
       "      <th>Interceptions</th>\n",
       "      <td>-0.154804</td>\n",
       "      <td>-0.125007</td>\n",
       "      <td>...</td>\n",
       "      <td>-0.474025</td>\n",
       "      <td>-0.474850</td>\n",
       "    </tr>\n",
       "    <tr>\n",
       "      <th>Vision</th>\n",
       "      <td>0.076988</td>\n",
       "      <td>-0.071177</td>\n",
       "      <td>...</td>\n",
       "      <td>-0.397728</td>\n",
       "      <td>-0.401582</td>\n",
       "    </tr>\n",
       "    <tr>\n",
       "      <th>Composure</th>\n",
       "      <td>-0.016093</td>\n",
       "      <td>-0.117220</td>\n",
       "      <td>...</td>\n",
       "      <td>-0.464087</td>\n",
       "      <td>-0.469048</td>\n",
       "    </tr>\n",
       "    <tr>\n",
       "      <th>Crossing</th>\n",
       "      <td>0.045986</td>\n",
       "      <td>-0.067383</td>\n",
       "      <td>...</td>\n",
       "      <td>-0.658085</td>\n",
       "      <td>-0.661232</td>\n",
       "    </tr>\n",
       "    <tr>\n",
       "      <th>Short_Pass</th>\n",
       "      <td>0.036071</td>\n",
       "      <td>-0.085123</td>\n",
       "      <td>...</td>\n",
       "      <td>-0.714071</td>\n",
       "      <td>-0.716827</td>\n",
       "    </tr>\n",
       "    <tr>\n",
       "      <th>Long_Pass</th>\n",
       "      <td>-0.006230</td>\n",
       "      <td>-0.100525</td>\n",
       "      <td>...</td>\n",
       "      <td>-0.594416</td>\n",
       "      <td>-0.597275</td>\n",
       "    </tr>\n",
       "    <tr>\n",
       "      <th>Acceleration</th>\n",
       "      <td>0.079866</td>\n",
       "      <td>-0.006315</td>\n",
       "      <td>...</td>\n",
       "      <td>-0.589799</td>\n",
       "      <td>-0.588293</td>\n",
       "    </tr>\n",
       "    <tr>\n",
       "      <th>Speed</th>\n",
       "      <td>0.056282</td>\n",
       "      <td>-0.010092</td>\n",
       "      <td>...</td>\n",
       "      <td>-0.599809</td>\n",
       "      <td>-0.599522</td>\n",
       "    </tr>\n",
       "    <tr>\n",
       "      <th>Stamina</th>\n",
       "      <td>0.003828</td>\n",
       "      <td>-0.101258</td>\n",
       "      <td>...</td>\n",
       "      <td>-0.703375</td>\n",
       "      <td>-0.705185</td>\n",
       "    </tr>\n",
       "    <tr>\n",
       "      <th>Strength</th>\n",
       "      <td>-0.099086</td>\n",
       "      <td>-0.141140</td>\n",
       "      <td>...</td>\n",
       "      <td>-0.080986</td>\n",
       "      <td>-0.084108</td>\n",
       "    </tr>\n",
       "    <tr>\n",
       "      <th>Balance</th>\n",
       "      <td>0.089038</td>\n",
       "      <td>0.010762</td>\n",
       "      <td>...</td>\n",
       "      <td>-0.487582</td>\n",
       "      <td>-0.485658</td>\n",
       "    </tr>\n",
       "    <tr>\n",
       "      <th>Agility</th>\n",
       "      <td>0.085691</td>\n",
       "      <td>-0.036128</td>\n",
       "      <td>...</td>\n",
       "      <td>-0.506763</td>\n",
       "      <td>-0.507833</td>\n",
       "    </tr>\n",
       "    <tr>\n",
       "      <th>Jumping</th>\n",
       "      <td>-0.100935</td>\n",
       "      <td>-0.106797</td>\n",
       "      <td>...</td>\n",
       "      <td>-0.158992</td>\n",
       "      <td>-0.157636</td>\n",
       "    </tr>\n",
       "    <tr>\n",
       "      <th>Heading</th>\n",
       "      <td>-0.072020</td>\n",
       "      <td>-0.076264</td>\n",
       "      <td>...</td>\n",
       "      <td>-0.749532</td>\n",
       "      <td>-0.750380</td>\n",
       "    </tr>\n",
       "    <tr>\n",
       "      <th>Shot_Power</th>\n",
       "      <td>0.083610</td>\n",
       "      <td>-0.051829</td>\n",
       "      <td>...</td>\n",
       "      <td>-0.649521</td>\n",
       "      <td>-0.651392</td>\n",
       "    </tr>\n",
       "    <tr>\n",
       "      <th>Finishing</th>\n",
       "      <td>0.138914</td>\n",
       "      <td>-0.007898</td>\n",
       "      <td>...</td>\n",
       "      <td>-0.571792</td>\n",
       "      <td>-0.573409</td>\n",
       "    </tr>\n",
       "    <tr>\n",
       "      <th>Long_Shots</th>\n",
       "      <td>0.109168</td>\n",
       "      <td>-0.040658</td>\n",
       "      <td>...</td>\n",
       "      <td>-0.597474</td>\n",
       "      <td>-0.598692</td>\n",
       "    </tr>\n",
       "    <tr>\n",
       "      <th>Curve</th>\n",
       "      <td>0.081888</td>\n",
       "      <td>-0.053631</td>\n",
       "      <td>...</td>\n",
       "      <td>-0.601801</td>\n",
       "      <td>-0.603812</td>\n",
       "    </tr>\n",
       "    <tr>\n",
       "      <th>Freekick_Accuracy</th>\n",
       "      <td>0.106621</td>\n",
       "      <td>-0.062077</td>\n",
       "      <td>...</td>\n",
       "      <td>-0.554871</td>\n",
       "      <td>-0.557189</td>\n",
       "    </tr>\n",
       "    <tr>\n",
       "      <th>Penalties</th>\n",
       "      <td>0.095289</td>\n",
       "      <td>-0.016220</td>\n",
       "      <td>...</td>\n",
       "      <td>-0.611300</td>\n",
       "      <td>-0.613301</td>\n",
       "    </tr>\n",
       "    <tr>\n",
       "      <th>Volleys</th>\n",
       "      <td>0.117381</td>\n",
       "      <td>-0.020482</td>\n",
       "      <td>...</td>\n",
       "      <td>-0.574602</td>\n",
       "      <td>-0.576507</td>\n",
       "    </tr>\n",
       "    <tr>\n",
       "      <th>GK_Positioning</th>\n",
       "      <td>-0.031492</td>\n",
       "      <td>0.004684</td>\n",
       "      <td>...</td>\n",
       "      <td>0.968031</td>\n",
       "      <td>0.968550</td>\n",
       "    </tr>\n",
       "    <tr>\n",
       "      <th>GK_Diving</th>\n",
       "      <td>-0.012435</td>\n",
       "      <td>0.011290</td>\n",
       "      <td>...</td>\n",
       "      <td>0.968287</td>\n",
       "      <td>0.972519</td>\n",
       "    </tr>\n",
       "    <tr>\n",
       "      <th>GK_Kicking</th>\n",
       "      <td>-0.015472</td>\n",
       "      <td>0.008788</td>\n",
       "      <td>...</td>\n",
       "      <td>0.963264</td>\n",
       "      <td>0.964500</td>\n",
       "    </tr>\n",
       "    <tr>\n",
       "      <th>GK_Handling</th>\n",
       "      <td>-0.024611</td>\n",
       "      <td>0.006725</td>\n",
       "      <td>...</td>\n",
       "      <td>1.000000</td>\n",
       "      <td>0.968501</td>\n",
       "    </tr>\n",
       "    <tr>\n",
       "      <th>GK_Reflexes</th>\n",
       "      <td>-0.018816</td>\n",
       "      <td>0.007480</td>\n",
       "      <td>...</td>\n",
       "      <td>0.968501</td>\n",
       "      <td>1.000000</td>\n",
       "    </tr>\n",
       "  </tbody>\n",
       "</table>\n",
       "<p>43 rows × 43 columns</p>\n",
       "</div>"
      ],
      "text/plain": [
       "                    National_Kit  Club_Kit  ...  GK_Handling  GK_Reflexes\n",
       "National_Kit            1.000000  0.055408  ...    -0.024611    -0.018816\n",
       "Club_Kit                0.055408  1.000000  ...     0.006725     0.007480\n",
       "Contract_Expiry        -0.027211  0.077060  ...    -0.023064    -0.024923\n",
       "Rating                 -0.084289 -0.172710  ...    -0.021343    -0.022978\n",
       "Height                 -0.101229 -0.028711  ...     0.359746     0.360260\n",
       "Weight                 -0.093795 -0.072341  ...     0.341829     0.341785\n",
       "Age                    -0.103583 -0.198230  ...     0.113216     0.106979\n",
       "Weak_foot               0.027268 -0.037234  ...    -0.233080    -0.235275\n",
       "Skill_Moves             0.105903  0.006378  ...    -0.606713    -0.609282\n",
       "Ball_Control            0.046644 -0.071067  ...    -0.775632    -0.777668\n",
       "Dribbling               0.093836 -0.028584  ...    -0.740616    -0.742065\n",
       "Marking                -0.162083 -0.105522  ...    -0.496431    -0.497013\n",
       "Sliding_Tackle         -0.152251 -0.094920  ...    -0.501429    -0.501738\n",
       "Standing_Tackle        -0.148329 -0.104446  ...    -0.523648    -0.524598\n",
       "Aggression             -0.073288 -0.121709  ...    -0.564734    -0.566184\n",
       "Reactions              -0.058696 -0.148887  ...    -0.044558    -0.045050\n",
       "Attacking_Position      0.124641 -0.031746  ...    -0.664273    -0.666512\n",
       "Interceptions          -0.154804 -0.125007  ...    -0.474025    -0.474850\n",
       "Vision                  0.076988 -0.071177  ...    -0.397728    -0.401582\n",
       "Composure              -0.016093 -0.117220  ...    -0.464087    -0.469048\n",
       "Crossing                0.045986 -0.067383  ...    -0.658085    -0.661232\n",
       "Short_Pass              0.036071 -0.085123  ...    -0.714071    -0.716827\n",
       "Long_Pass              -0.006230 -0.100525  ...    -0.594416    -0.597275\n",
       "Acceleration            0.079866 -0.006315  ...    -0.589799    -0.588293\n",
       "Speed                   0.056282 -0.010092  ...    -0.599809    -0.599522\n",
       "Stamina                 0.003828 -0.101258  ...    -0.703375    -0.705185\n",
       "Strength               -0.099086 -0.141140  ...    -0.080986    -0.084108\n",
       "Balance                 0.089038  0.010762  ...    -0.487582    -0.485658\n",
       "Agility                 0.085691 -0.036128  ...    -0.506763    -0.507833\n",
       "Jumping                -0.100935 -0.106797  ...    -0.158992    -0.157636\n",
       "Heading                -0.072020 -0.076264  ...    -0.749532    -0.750380\n",
       "Shot_Power              0.083610 -0.051829  ...    -0.649521    -0.651392\n",
       "Finishing               0.138914 -0.007898  ...    -0.571792    -0.573409\n",
       "Long_Shots              0.109168 -0.040658  ...    -0.597474    -0.598692\n",
       "Curve                   0.081888 -0.053631  ...    -0.601801    -0.603812\n",
       "Freekick_Accuracy       0.106621 -0.062077  ...    -0.554871    -0.557189\n",
       "Penalties               0.095289 -0.016220  ...    -0.611300    -0.613301\n",
       "Volleys                 0.117381 -0.020482  ...    -0.574602    -0.576507\n",
       "GK_Positioning         -0.031492  0.004684  ...     0.968031     0.968550\n",
       "GK_Diving              -0.012435  0.011290  ...     0.968287     0.972519\n",
       "GK_Kicking             -0.015472  0.008788  ...     0.963264     0.964500\n",
       "GK_Handling            -0.024611  0.006725  ...     1.000000     0.968501\n",
       "GK_Reflexes            -0.018816  0.007480  ...     0.968501     1.000000\n",
       "\n",
       "[43 rows x 43 columns]"
      ]
     },
     "execution_count": 166,
     "metadata": {},
     "output_type": "execute_result"
    }
   ],
   "source": [
    "#DataFrame对象 corr（）生成相关系数矩阵\n",
    "player.corr()"
   ]
  },
  {
   "cell_type": "code",
   "execution_count": 167,
   "metadata": {
    "pycharm": {
     "name": "#%%\n"
    }
   },
   "outputs": [
    {
     "data": {
      "text/plain": [
       "pandas.core.frame.DataFrame"
      ]
     },
     "execution_count": 167,
     "metadata": {},
     "output_type": "execute_result"
    }
   ],
   "source": [
    "# 查看相关系数矩阵\n",
    "type(player.corr())"
   ]
  },
  {
   "cell_type": "code",
   "execution_count": 168,
   "metadata": {
    "pycharm": {
     "name": "#%%\n"
    }
   },
   "outputs": [
    {
     "data": {
      "text/plain": [
       "National_Kit         -0.084289\n",
       "Club_Kit             -0.172710\n",
       "Contract_Expiry       0.047430\n",
       "Rating                1.000000\n",
       "Height                0.046937\n",
       "Weight                0.139703\n",
       "Age                   0.458098\n",
       "Weak_foot             0.226263\n",
       "Skill_Moves           0.251926\n",
       "Ball_Control          0.463211\n",
       "Dribbling             0.368565\n",
       "Marking               0.236843\n",
       "Sliding_Tackle        0.215385\n",
       "Standing_Tackle       0.249156\n",
       "Aggression            0.404422\n",
       "Reactions             0.828329\n",
       "Attacking_Position    0.354501\n",
       "Interceptions         0.319504\n",
       "Vision                0.489277\n",
       "Composure             0.613612\n",
       "Crossing              0.401851\n",
       "Short_Pass            0.496239\n",
       "Long_Pass             0.483217\n",
       "Acceleration          0.206392\n",
       "Speed                 0.224253\n",
       "Stamina               0.355335\n",
       "Strength              0.369045\n",
       "Balance               0.087811\n",
       "Agility               0.283309\n",
       "Jumping               0.289840\n",
       "Heading               0.343265\n",
       "Shot_Power            0.441773\n",
       "Finishing             0.328576\n",
       "Long_Shots            0.419517\n",
       "Curve                 0.420796\n",
       "Freekick_Accuracy     0.399575\n",
       "Penalties             0.339898\n",
       "Volleys               0.386494\n",
       "GK_Positioning       -0.018586\n",
       "GK_Diving            -0.027615\n",
       "GK_Kicking           -0.031696\n",
       "GK_Handling          -0.021343\n",
       "GK_Reflexes          -0.022978\n",
       "Name: Rating, dtype: float64"
      ]
     },
     "execution_count": 168,
     "metadata": {},
     "output_type": "execute_result"
    }
   ],
   "source": [
    "player.corr()['Rating']"
   ]
  },
  {
   "cell_type": "code",
   "execution_count": 170,
   "metadata": {
    "pycharm": {
     "name": "#%%\n"
    }
   },
   "outputs": [
    {
     "data": {
      "text/plain": [
       "Rating                1.000000\n",
       "Reactions             0.828329\n",
       "Composure             0.613612\n",
       "Short_Pass            0.496239\n",
       "Vision                0.489277\n",
       "Long_Pass             0.483217\n",
       "Ball_Control          0.463211\n",
       "Age                   0.458098\n",
       "Shot_Power            0.441773\n",
       "Curve                 0.420796\n",
       "Long_Shots            0.419517\n",
       "Aggression            0.404422\n",
       "Crossing              0.401851\n",
       "Freekick_Accuracy     0.399575\n",
       "Volleys               0.386494\n",
       "Strength              0.369045\n",
       "Dribbling             0.368565\n",
       "Stamina               0.355335\n",
       "Attacking_Position    0.354501\n",
       "Heading               0.343265\n",
       "Penalties             0.339898\n",
       "Finishing             0.328576\n",
       "Interceptions         0.319504\n",
       "Jumping               0.289840\n",
       "Agility               0.283309\n",
       "Skill_Moves           0.251926\n",
       "Standing_Tackle       0.249156\n",
       "Marking               0.236843\n",
       "Weak_foot             0.226263\n",
       "Speed                 0.224253\n",
       "Sliding_Tackle        0.215385\n",
       "Acceleration          0.206392\n",
       "Weight                0.139703\n",
       "Balance               0.087811\n",
       "Contract_Expiry       0.047430\n",
       "Height                0.046937\n",
       "GK_Positioning       -0.018586\n",
       "GK_Handling          -0.021343\n",
       "GK_Reflexes          -0.022978\n",
       "GK_Diving            -0.027615\n",
       "GK_Kicking           -0.031696\n",
       "National_Kit         -0.084289\n",
       "Club_Kit             -0.172710\n",
       "Name: Rating, dtype: float64"
      ]
     },
     "execution_count": 170,
     "metadata": {},
     "output_type": "execute_result"
    }
   ],
   "source": [
    "player.corr()['Rating'].sort_values(ascending=False)"
   ]
  },
  {
   "cell_type": "markdown",
   "metadata": {
    "pycharm": {
     "name": "#%% md\n"
    }
   },
   "source": [
    "年龄与评分是否有相关性"
   ]
  },
  {
   "cell_type": "code",
   "execution_count": 171,
   "metadata": {
    "pycharm": {
     "name": "#%%\n"
    }
   },
   "outputs": [
    {
     "data": {
      "text/plain": [
       "<AxesSubplot:xlabel='Age', ylabel='Rating'>"
      ]
     },
     "execution_count": 171,
     "metadata": {},
     "output_type": "execute_result"
    },
    {
     "data": {
      "image/png": "[encoded data removed]",
      "text/plain": [
       "<Figure size 432x288 with 1 Axes>"
      ]
     },
     "metadata": {
      "needs_background": "light"
     },
     "output_type": "display_data"
    }
   ],
   "source": [
    "# 绘制散点图\n",
    "player.plot(kind='scatter', x='Age', y='Rating')"
   ]
  },
  {
   "cell_type": "code",
   "execution_count": 172,
   "metadata": {
    "pycharm": {
     "name": "#%%\n"
    }
   },
   "outputs": [
    {
     "data": {
      "text/plain": [
       "0.4580978906200464"
      ]
     },
     "execution_count": 172,
     "metadata": {},
     "output_type": "execute_result"
    }
   ],
   "source": [
    "# 计算年龄与评分相关系数\n",
    "player['Age'].corr(player['Rating'])"
   ]
  },
  {
   "cell_type": "code",
   "execution_count": 173,
   "metadata": {
    "pycharm": {
     "name": "#%%\n"
    }
   },
   "outputs": [
    {
     "data": {
      "text/plain": [
       "0         (24.5, 32.0]\n",
       "1         (24.5, 32.0]\n",
       "2         (24.5, 32.0]\n",
       "3         (24.5, 32.0]\n",
       "4         (24.5, 32.0]\n",
       "             ...      \n",
       "17583    (16.97, 24.5]\n",
       "17584    (16.97, 24.5]\n",
       "17585    (16.97, 24.5]\n",
       "17586    (16.97, 24.5]\n",
       "17587     (39.5, 47.0]\n",
       "Name: Age, Length: 17587, dtype: category\n",
       "Categories (4, interval[float64, right]): [(16.97, 24.5] < (24.5, 32.0] < (32.0, 39.5] < (39.5, 47.0]]"
      ]
     },
     "execution_count": 173,
     "metadata": {},
     "output_type": "execute_result"
    }
   ],
   "source": [
    "# 对年龄进行分组\n",
    "#cut bins参数指定分组\n",
    "pd.cut(player['Age'], bins=4)"
   ]
  },
  {
   "cell_type": "code",
   "execution_count": 174,
   "metadata": {
    "pycharm": {
     "name": "#%%\n"
    }
   },
   "outputs": [
    {
     "data": {
      "text/plain": [
       "0        青年队\n",
       "1        青年队\n",
       "2        青年队\n",
       "3        青年队\n",
       "4        青年队\n",
       "        ... \n",
       "17583    少年队\n",
       "17584    少年队\n",
       "17585    少年队\n",
       "17586    少年队\n",
       "17587    老年队\n",
       "Name: Age, Length: 17587, dtype: category\n",
       "Categories (4, object): ['少年队' < '青年队' < '中年队' < '老年队']"
      ]
     },
     "execution_count": 174,
     "metadata": {},
     "output_type": "execute_result"
    }
   ],
   "source": [
    "# 对组设置标签\n",
    "pd.cut(player['Age'], bins=4, labels=['少年队', '青年队', '中年队', '老年队'])"
   ]
  },
  {
   "cell_type": "code",
   "execution_count": 175,
   "metadata": {
    "pycharm": {
     "name": "#%%\n"
    }
   },
   "outputs": [
    {
     "name": "stderr",
     "output_type": "stream",
     "text": [
      "C:\\Users\\17910\\AppData\\Local\\Temp\\ipykernel_39860\\1382231690.py:2: SettingWithCopyWarning: \n",
      "A value is trying to be set on a copy of a slice from a DataFrame.\n",
      "Try using .loc[row_indexer,col_indexer] = value instead\n",
      "\n",
      "See the caveats in the documentation: https://pandas.pydata.org/pandas-docs/stable/user_guide/indexing.html#returning-a-view-versus-a-copy\n",
      "  player['Age2'] = pd.cut(player['Age'], bins=4, labels=['少年队', '青年队', '中年队', '老年队'])\n"
     ]
    }
   ],
   "source": [
    "# 新增一列\n",
    "player['Age2'] = pd.cut(player['Age'], bins=4, labels=['少年队', '青年队', '中年队', '老年队'])"
   ]
  },
  {
   "cell_type": "code",
   "execution_count": 176,
   "metadata": {
    "pycharm": {
     "name": "#%%\n"
    }
   },
   "outputs": [
    {
     "data": {
      "text/html": [
       "<div>\n",
       "<style scoped>\n",
       "    .dataframe tbody tr th:only-of-type {\n",
       "        vertical-align: middle;\n",
       "    }\n",
       "\n",
       "    .dataframe tbody tr th {\n",
       "        vertical-align: top;\n",
       "    }\n",
       "\n",
       "    .dataframe thead th {\n",
       "        text-align: right;\n",
       "    }\n",
       "</style>\n",
       "<table border=\"1\" class=\"dataframe\">\n",
       "  <thead>\n",
       "    <tr style=\"text-align: right;\">\n",
       "      <th></th>\n",
       "      <th>Name</th>\n",
       "      <th>Nationality</th>\n",
       "      <th>...</th>\n",
       "      <th>GK_Reflexes</th>\n",
       "      <th>Age2</th>\n",
       "    </tr>\n",
       "  </thead>\n",
       "  <tbody>\n",
       "    <tr>\n",
       "      <th>0</th>\n",
       "      <td>Cristiano Ronaldo</td>\n",
       "      <td>Portugal</td>\n",
       "      <td>...</td>\n",
       "      <td>11</td>\n",
       "      <td>青年队</td>\n",
       "    </tr>\n",
       "    <tr>\n",
       "      <th>1</th>\n",
       "      <td>Lionel Messi</td>\n",
       "      <td>Argentina</td>\n",
       "      <td>...</td>\n",
       "      <td>8</td>\n",
       "      <td>青年队</td>\n",
       "    </tr>\n",
       "    <tr>\n",
       "      <th>2</th>\n",
       "      <td>Neymar</td>\n",
       "      <td>Brazil</td>\n",
       "      <td>...</td>\n",
       "      <td>11</td>\n",
       "      <td>青年队</td>\n",
       "    </tr>\n",
       "    <tr>\n",
       "      <th>3</th>\n",
       "      <td>Luis Suárez</td>\n",
       "      <td>Uruguay</td>\n",
       "      <td>...</td>\n",
       "      <td>37</td>\n",
       "      <td>青年队</td>\n",
       "    </tr>\n",
       "    <tr>\n",
       "      <th>4</th>\n",
       "      <td>Manuel Neuer</td>\n",
       "      <td>Germany</td>\n",
       "      <td>...</td>\n",
       "      <td>89</td>\n",
       "      <td>青年队</td>\n",
       "    </tr>\n",
       "    <tr>\n",
       "      <th>...</th>\n",
       "      <td>...</td>\n",
       "      <td>...</td>\n",
       "      <td>...</td>\n",
       "      <td>...</td>\n",
       "      <td>...</td>\n",
       "    </tr>\n",
       "    <tr>\n",
       "      <th>17583</th>\n",
       "      <td>Adam Dunbar</td>\n",
       "      <td>Republic of Ireland</td>\n",
       "      <td>...</td>\n",
       "      <td>46</td>\n",
       "      <td>少年队</td>\n",
       "    </tr>\n",
       "    <tr>\n",
       "      <th>17584</th>\n",
       "      <td>Dylan McGoey</td>\n",
       "      <td>Republic of Ireland</td>\n",
       "      <td>...</td>\n",
       "      <td>46</td>\n",
       "      <td>少年队</td>\n",
       "    </tr>\n",
       "    <tr>\n",
       "      <th>17585</th>\n",
       "      <td>Tommy Ouldridge</td>\n",
       "      <td>England</td>\n",
       "      <td>...</td>\n",
       "      <td>7</td>\n",
       "      <td>少年队</td>\n",
       "    </tr>\n",
       "    <tr>\n",
       "      <th>17586</th>\n",
       "      <td>Mark Foden</td>\n",
       "      <td>Scotland</td>\n",
       "      <td>...</td>\n",
       "      <td>45</td>\n",
       "      <td>少年队</td>\n",
       "    </tr>\n",
       "    <tr>\n",
       "      <th>17587</th>\n",
       "      <td>Barry Richardson</td>\n",
       "      <td>England</td>\n",
       "      <td>...</td>\n",
       "      <td>33</td>\n",
       "      <td>老年队</td>\n",
       "    </tr>\n",
       "  </tbody>\n",
       "</table>\n",
       "<p>17587 rows × 54 columns</p>\n",
       "</div>"
      ],
      "text/plain": [
       "                    Name          Nationality  ... GK_Reflexes  Age2\n",
       "0      Cristiano Ronaldo             Portugal  ...          11   青年队\n",
       "1           Lionel Messi            Argentina  ...           8   青年队\n",
       "2                 Neymar               Brazil  ...          11   青年队\n",
       "3            Luis Suárez              Uruguay  ...          37   青年队\n",
       "4           Manuel Neuer              Germany  ...          89   青年队\n",
       "...                  ...                  ...  ...         ...   ...\n",
       "17583        Adam Dunbar  Republic of Ireland  ...          46   少年队\n",
       "17584       Dylan McGoey  Republic of Ireland  ...          46   少年队\n",
       "17585    Tommy Ouldridge              England  ...           7   少年队\n",
       "17586         Mark Foden             Scotland  ...          45   少年队\n",
       "17587   Barry Richardson              England  ...          33   老年队\n",
       "\n",
       "[17587 rows x 54 columns]"
      ]
     },
     "execution_count": 176,
     "metadata": {},
     "output_type": "execute_result"
    }
   ],
   "source": [
    "player"
   ]
  },
  {
   "cell_type": "code",
   "execution_count": 177,
   "metadata": {
    "pycharm": {
     "name": "#%%\n"
    }
   },
   "outputs": [
    {
     "data": {
      "text/plain": [
       "Age2\n",
       "少年队    62.833686\n",
       "青年队    68.957701\n",
       "中年队    69.090909\n",
       "老年队    65.322581\n",
       "Name: Rating, dtype: float64"
      ]
     },
     "execution_count": 177,
     "metadata": {},
     "output_type": "execute_result"
    }
   ],
   "source": [
    "# 按照Age2分组   获得平均评分\n",
    "player.groupby('Age2')['Rating'].mean()"
   ]
  },
  {
   "cell_type": "code",
   "execution_count": 179,
   "metadata": {
    "pycharm": {
     "name": "#%%\n"
    }
   },
   "outputs": [
    {
     "data": {
      "text/plain": [
       "<AxesSubplot:xlabel='Age2'>"
      ]
     },
     "execution_count": 179,
     "metadata": {},
     "output_type": "execute_result"
    },
    {
     "data": {
      "image/png": "[encoded data removed]",
      "text/plain": [
       "<Figure size 432x288 with 1 Axes>"
      ]
     },
     "metadata": {
      "needs_background": "light"
     },
     "output_type": "display_data"
    }
   ],
   "source": [
    "# 绘制图形\n",
    "player.groupby('Age2')['Rating'].mean().plot(kind='line', marker='o')"
   ]
  },
  {
   "cell_type": "code",
   "execution_count": 180,
   "metadata": {
    "pycharm": {
     "name": "#%%\n"
    }
   },
   "outputs": [
    {
     "data": {
      "text/plain": [
       "0        中年对\n",
       "1        青年队\n",
       "2        青年队\n",
       "3        青年队\n",
       "4        中年对\n",
       "        ... \n",
       "17583    青年队\n",
       "17584    青年队\n",
       "17585    青年队\n",
       "17586    青年队\n",
       "17587    老年队\n",
       "Name: Age, Length: 17587, dtype: category\n",
       "Categories (3, object): ['青年队' < '中年对' < '老年队']"
      ]
     },
     "execution_count": 180,
     "metadata": {},
     "output_type": "execute_result"
    }
   ],
   "source": [
    "# 自定义分组\n",
    "pd.cut(player['Age'], bins=[10,30,40,50],labels=['青年队', '中年对', '老年队'])"
   ]
  },
  {
   "cell_type": "code",
   "execution_count": 182,
   "metadata": {
    "pycharm": {
     "name": "#%%\n"
    }
   },
   "outputs": [
    {
     "name": "stderr",
     "output_type": "stream",
     "text": [
      "C:\\Users\\17910\\AppData\\Local\\Temp\\ipykernel_39860\\3939827629.py:1: SettingWithCopyWarning: \n",
      "A value is trying to be set on a copy of a slice from a DataFrame.\n",
      "Try using .loc[row_indexer,col_indexer] = value instead\n",
      "\n",
      "See the caveats in the documentation: https://pandas.pydata.org/pandas-docs/stable/user_guide/indexing.html#returning-a-view-versus-a-copy\n",
      "  player['Age3'] = pd.cut(player['Age'], bins=[10,30,40,50],labels=['青年队', '中年对', '老年队'])\n"
     ]
    }
   ],
   "source": [
    "player['Age3'] = pd.cut(player['Age'], bins=[10,30,40,50],labels=['青年队', '中年对', '老年队'])"
   ]
  },
  {
   "cell_type": "code",
   "execution_count": 183,
   "metadata": {
    "pycharm": {
     "name": "#%%\n"
    }
   },
   "outputs": [
    {
     "data": {
      "text/plain": [
       "<AxesSubplot:xlabel='Age3'>"
      ]
     },
     "execution_count": 183,
     "metadata": {},
     "output_type": "execute_result"
    },
    {
     "data": {
      "image/png": "[encoded data removed]",
      "text/plain": [
       "<Figure size 432x288 with 1 Axes>"
      ]
     },
     "metadata": {
      "needs_background": "light"
     },
     "output_type": "display_data"
    }
   ],
   "source": [
    "# 队Age3分组\n",
    "player.groupby('Age3')['Rating'].mean().plot(marker='o')"
   ]
  },
  {
   "cell_type": "code",
   "execution_count": null,
   "metadata": {
    "pycharm": {
     "name": "#%%\n"
    }
   },
   "outputs": [],
   "source": []
  }
 ],
 "metadata": {
  "kernelspec": {
   "display_name": "Python 3 (ipykernel)",
   "language": "python",
   "name": "python3"
  },
  "language_info": {
   "codemirror_mode": {
    "name": "ipython",
    "version": 3
   },
   "file_extension": ".py",
   "mimetype": "text/x-python",
   "name": "python",
   "nbconvert_exporter": "python",
   "pygments_lexer": "ipython3",
   "version": "3.9.7"
  }
 },
 "nbformat": 4,
 "nbformat_minor": 1
}
